{
 "cells": [
  {
   "cell_type": "code",
   "execution_count": 1,
   "metadata": {},
   "outputs": [],
   "source": [
    "import pandas as pd\n",
    "log = pd.read_csv(\"log.csv\",header=None) \n",
    "log.columns = ['user_id','time','bet','win']"
   ]
  },
  {
   "cell_type": "code",
   "execution_count": 33,
   "metadata": {},
   "outputs": [
    {
     "data": {
      "text/html": [
       "<div>\n",
       "<style scoped>\n",
       "    .dataframe tbody tr th:only-of-type {\n",
       "        vertical-align: middle;\n",
       "    }\n",
       "\n",
       "    .dataframe tbody tr th {\n",
       "        vertical-align: top;\n",
       "    }\n",
       "\n",
       "    .dataframe thead th {\n",
       "        text-align: right;\n",
       "    }\n",
       "</style>\n",
       "<table border=\"1\" class=\"dataframe\">\n",
       "  <thead>\n",
       "    <tr style=\"text-align: right;\">\n",
       "      <th></th>\n",
       "      <th>user_id</th>\n",
       "      <th>time</th>\n",
       "      <th>bet</th>\n",
       "      <th>win</th>\n",
       "    </tr>\n",
       "  </thead>\n",
       "  <tbody>\n",
       "    <tr>\n",
       "      <th>0</th>\n",
       "      <td>Запись пользователя № - user_919</td>\n",
       "      <td>[2019-01-01 14:06:51</td>\n",
       "      <td>NaN</td>\n",
       "      <td>NaN</td>\n",
       "    </tr>\n",
       "    <tr>\n",
       "      <th>1</th>\n",
       "      <td>Запись пользователя № - user_973</td>\n",
       "      <td>[2019-01-01 14:51:16</td>\n",
       "      <td>NaN</td>\n",
       "      <td>NaN</td>\n",
       "    </tr>\n",
       "    <tr>\n",
       "      <th>2</th>\n",
       "      <td>Запись пользователя № - user_903</td>\n",
       "      <td>[2019-01-01 16:31:16</td>\n",
       "      <td>NaN</td>\n",
       "      <td>NaN</td>\n",
       "    </tr>\n",
       "    <tr>\n",
       "      <th>3</th>\n",
       "      <td>Запись пользователя № - user_954</td>\n",
       "      <td>[2019-01-01 17:17:51</td>\n",
       "      <td>NaN</td>\n",
       "      <td>NaN</td>\n",
       "    </tr>\n",
       "    <tr>\n",
       "      <th>4</th>\n",
       "      <td>Запись пользователя № - user_954</td>\n",
       "      <td>[2019-01-01 21:31:18</td>\n",
       "      <td>NaN</td>\n",
       "      <td>NaN</td>\n",
       "    </tr>\n",
       "  </tbody>\n",
       "</table>\n",
       "</div>"
      ],
      "text/plain": [
       "                            user_id                  time  bet  win\n",
       "0  Запись пользователя № - user_919  [2019-01-01 14:06:51  NaN  NaN\n",
       "1  Запись пользователя № - user_973  [2019-01-01 14:51:16  NaN  NaN\n",
       "2  Запись пользователя № - user_903  [2019-01-01 16:31:16  NaN  NaN\n",
       "3  Запись пользователя № - user_954  [2019-01-01 17:17:51  NaN  NaN\n",
       "4  Запись пользователя № - user_954  [2019-01-01 21:31:18  NaN  NaN"
      ]
     },
     "execution_count": 33,
     "metadata": {},
     "output_type": "execute_result"
    }
   ],
   "source": [
    "log1 = log\n",
    "log.head()"
   ]
  },
  {
   "cell_type": "code",
   "execution_count": 34,
   "metadata": {},
   "outputs": [
    {
     "name": "stdout",
     "output_type": "stream",
     "text": [
      "<class 'pandas.core.frame.DataFrame'>\n",
      "RangeIndex: 1000 entries, 0 to 999\n",
      "Data columns (total 4 columns):\n",
      "user_id    1000 non-null object\n",
      "time       985 non-null object\n",
      "bet        485 non-null float64\n",
      "win        138 non-null float64\n",
      "dtypes: float64(2), object(2)\n",
      "memory usage: 31.3+ KB\n"
     ]
    }
   ],
   "source": [
    "log1.info()"
   ]
  },
  {
   "cell_type": "code",
   "execution_count": 35,
   "metadata": {},
   "outputs": [
    {
     "data": {
      "text/plain": [
       "15"
      ]
     },
     "execution_count": 35,
     "metadata": {},
     "output_type": "execute_result"
    }
   ],
   "source": [
    "log.time.isna().sum()"
   ]
  },
  {
   "cell_type": "code",
   "execution_count": 36,
   "metadata": {},
   "outputs": [
    {
     "data": {
      "text/plain": [
       "15"
      ]
     },
     "execution_count": 36,
     "metadata": {},
     "output_type": "execute_result"
    }
   ],
   "source": [
    "len (log[log.time.isna() == True])"
   ]
  },
  {
   "cell_type": "code",
   "execution_count": 37,
   "metadata": {},
   "outputs": [],
   "source": [
    "log = log1"
   ]
  },
  {
   "cell_type": "code",
   "execution_count": 38,
   "metadata": {},
   "outputs": [
    {
     "name": "stdout",
     "output_type": "stream",
     "text": [
      "<class 'pandas.core.frame.DataFrame'>\n",
      "Int64Index: 985 entries, 0 to 995\n",
      "Data columns (total 4 columns):\n",
      "user_id    985 non-null object\n",
      "time       985 non-null object\n",
      "bet        472 non-null float64\n",
      "win        133 non-null float64\n",
      "dtypes: float64(2), object(2)\n",
      "memory usage: 38.5+ KB\n"
     ]
    }
   ],
   "source": [
    "log.dropna(subset=['user_id','time'], axis=0).info()"
   ]
  },
  {
   "cell_type": "code",
   "execution_count": 39,
   "metadata": {},
   "outputs": [
    {
     "data": {
      "text/plain": [
       "3"
      ]
     },
     "execution_count": 39,
     "metadata": {},
     "output_type": "execute_result"
    }
   ],
   "source": [
    "col_lst=['user_id','time']\n",
    "for item in col_lst:\n",
    "    miss_val=int(log[item].isna().to_frame(name='n').query('n==True').count())\n",
    "    if miss_val > 0:\n",
    "        log.drop(item, axis=1, inplace=True)\n",
    "len(log.columns)"
   ]
  },
  {
   "cell_type": "code",
   "execution_count": 40,
   "metadata": {},
   "outputs": [
    {
     "data": {
      "text/html": [
       "<div>\n",
       "<style scoped>\n",
       "    .dataframe tbody tr th:only-of-type {\n",
       "        vertical-align: middle;\n",
       "    }\n",
       "\n",
       "    .dataframe tbody tr th {\n",
       "        vertical-align: top;\n",
       "    }\n",
       "\n",
       "    .dataframe thead th {\n",
       "        text-align: right;\n",
       "    }\n",
       "</style>\n",
       "<table border=\"1\" class=\"dataframe\">\n",
       "  <thead>\n",
       "    <tr style=\"text-align: right;\">\n",
       "      <th></th>\n",
       "      <th>user_id</th>\n",
       "      <th>bet</th>\n",
       "      <th>win</th>\n",
       "    </tr>\n",
       "  </thead>\n",
       "  <tbody>\n",
       "    <tr>\n",
       "      <th>995</th>\n",
       "      <td>Запись пользователя № - user_984</td>\n",
       "      <td>9754.0</td>\n",
       "      <td>NaN</td>\n",
       "    </tr>\n",
       "    <tr>\n",
       "      <th>996</th>\n",
       "      <td>#error</td>\n",
       "      <td>10054.0</td>\n",
       "      <td>29265.0</td>\n",
       "    </tr>\n",
       "    <tr>\n",
       "      <th>997</th>\n",
       "      <td>#error</td>\n",
       "      <td>10454.0</td>\n",
       "      <td>NaN</td>\n",
       "    </tr>\n",
       "    <tr>\n",
       "      <th>998</th>\n",
       "      <td>#error</td>\n",
       "      <td>1000.0</td>\n",
       "      <td>NaN</td>\n",
       "    </tr>\n",
       "    <tr>\n",
       "      <th>999</th>\n",
       "      <td>#error</td>\n",
       "      <td>10754.0</td>\n",
       "      <td>NaN</td>\n",
       "    </tr>\n",
       "  </tbody>\n",
       "</table>\n",
       "</div>"
      ],
      "text/plain": [
       "                              user_id      bet      win\n",
       "995  Запись пользователя № - user_984   9754.0      NaN\n",
       "996                            #error  10054.0  29265.0\n",
       "997                            #error  10454.0      NaN\n",
       "998                            #error   1000.0      NaN\n",
       "999                            #error  10754.0      NaN"
      ]
     },
     "metadata": {},
     "output_type": "display_data"
    }
   ],
   "source": [
    "log1 = pd.read_csv('log.csv', header = None)\n",
    "log1.columns = ['user_id','time','bet','win']\n",
    "\n",
    "# log1.dropna(subset = ['user_id', 'time']) чистит (удаляет) строки с пустотой в указ. колонках\n",
    "\n",
    "# log1.dropna(axis = ['user_id', 'time']) не работает с версии панды 0.23\n",
    "\n",
    "for column in ['user_id', 'time']:\n",
    "\n",
    "    if not log1[log1[column].isna()][column].empty:\n",
    "\n",
    "        #print(column)\n",
    "\n",
    "        log1.drop(column, axis = 1, inplace = True)\n",
    "\n",
    "display(log1.tail())\n",
    "\n"
   ]
  },
  {
   "cell_type": "code",
   "execution_count": 1,
   "metadata": {},
   "outputs": [],
   "source": [
    "import pandas as pd\n",
    "import datetime as dt\n",
    "\n",
    "log = pd.read_csv(\"log.csv\",header=None) \n",
    "log.columns = ['user_id','time','bet','win']\n",
    "log1 = log"
   ]
  },
  {
   "cell_type": "code",
   "execution_count": 2,
   "metadata": {},
   "outputs": [
    {
     "name": "stdout",
     "output_type": "stream",
     "text": [
      "<class 'pandas.core.frame.DataFrame'>\n",
      "Int64Index: 986 entries, 0 to 995\n",
      "Data columns (total 4 columns):\n",
      "user_id    986 non-null object\n",
      "time       985 non-null object\n",
      "bet        472 non-null float64\n",
      "win        133 non-null float64\n",
      "dtypes: float64(2), object(2)\n",
      "memory usage: 38.5+ KB\n"
     ]
    }
   ],
   "source": [
    "log.drop_duplicates(subset=['user_id','time']).info()"
   ]
  },
  {
   "cell_type": "code",
   "execution_count": 3,
   "metadata": {},
   "outputs": [],
   "source": [
    "from datetime import datetime, timedelta\n",
    "\n",
    "log = pd.read_csv(\"log.csv\", header=None) \n",
    "log.columns = ['user_id','time','bet','win']\n",
    "\n",
    "def timer(tm):\n",
    "    \n",
    "    if str(tm) == 'nan':\n",
    "        \n",
    "        return tm\n",
    "    else:\n",
    "        return str(tm).strip('[')\n",
    "\n",
    "log['time'] = log.time.apply(timer)\n"
   ]
  },
  {
   "cell_type": "code",
   "execution_count": 4,
   "metadata": {},
   "outputs": [],
   "source": [
    "log['time'] = pd.to_datetime(log['time'])"
   ]
  },
  {
   "cell_type": "code",
   "execution_count": 5,
   "metadata": {},
   "outputs": [
    {
     "data": {
      "text/plain": [
       "Timestamp('2019-04-20 18:10:07')"
      ]
     },
     "execution_count": 5,
     "metadata": {},
     "output_type": "execute_result"
    }
   ],
   "source": [
    "log['time'].max()"
   ]
  },
  {
   "cell_type": "code",
   "execution_count": 6,
   "metadata": {},
   "outputs": [
    {
     "data": {
      "text/plain": [
       "13    2019-01-02 08:57:36\n",
       "28    2019-01-04 13:59:42\n",
       "150   2019-01-16 21:54:22\n",
       "188   2019-01-21 18:34:44\n",
       "204   2019-01-22 05:26:59\n",
       "Name: time, dtype: datetime64[ns]"
      ]
     },
     "execution_count": 6,
     "metadata": {},
     "output_type": "execute_result"
    }
   ],
   "source": [
    "log = pd.read_csv(\"log.csv\")  \n",
    "log = log.dropna()  \n",
    "log.columns = ['user_id', 'time', 'bet', 'win']  \n",
    "log['time'] = log['time'].apply(lambda x: x[1:])  \n",
    "log['time'] = pd.to_datetime(log['time'])  \n",
    "# Пропущенная строка log.time = log.time.apply(lambda x: x.minute) или log.time = log.time.apply(lambda x: x.minute)    \n",
    "log['time'].head() "
   ]
  },
  {
   "cell_type": "code",
   "execution_count": 7,
   "metadata": {},
   "outputs": [],
   "source": [
    "year_column = log['time'].apply(lambda x: x.year)"
   ]
  },
  {
   "cell_type": "code",
   "execution_count": 8,
   "metadata": {},
   "outputs": [],
   "source": [
    "#log['time'].dt.minute.value_counts()"
   ]
  },
  {
   "cell_type": "code",
   "execution_count": 9,
   "metadata": {},
   "outputs": [
    {
     "data": {
      "text/plain": [
       "3    57\n",
       "4    51\n",
       "2    16\n",
       "1     9\n",
       "Name: time, dtype: int64"
      ]
     },
     "execution_count": 9,
     "metadata": {},
     "output_type": "execute_result"
    }
   ],
   "source": [
    "log['time'].dt.month.value_counts()  \n"
   ]
  },
  {
   "cell_type": "code",
   "execution_count": 10,
   "metadata": {},
   "outputs": [
    {
     "data": {
      "text/plain": [
       "1    27\n",
       "6    21\n",
       "4    21\n",
       "2    19\n",
       "3    17\n",
       "5    16\n",
       "0    12\n",
       "Name: time, dtype: int64"
      ]
     },
     "execution_count": 10,
     "metadata": {},
     "output_type": "execute_result"
    }
   ],
   "source": [
    "log['time'].dt.weekday.value_counts()"
   ]
  },
  {
   "cell_type": "code",
   "execution_count": null,
   "metadata": {},
   "outputs": [],
   "source": [
    "\n"
   ]
  },
  {
   "cell_type": "code",
   "execution_count": 93,
   "metadata": {},
   "outputs": [
    {
     "data": {
      "text/plain": [
       "ночь     265\n",
       "утро     253\n",
       "день     239\n",
       "вечер    227\n",
       "Name: time, dtype: int64"
      ]
     },
     "execution_count": 93,
     "metadata": {},
     "output_type": "execute_result"
    }
   ],
   "source": [
    "log = pd.read_csv(\"log.csv\")  \n",
    "log.columns = ['user_id', 'time', 'bet', 'win']  \n",
    "log1.dropna(subset = ['time'])\n",
    "def timer(tm):\n",
    "    \n",
    "    if str(tm) == 'nan':\n",
    "        return tm\n",
    "    else:\n",
    "        return str(tm).strip('[')\n",
    "\n",
    "def period(time):\n",
    "    if time.hour >= 0 and time.hour <= 5:\n",
    "        return \"ночь\"\n",
    "    if time.hour >= 6 and time.hour <= 11:\n",
    "        return \"утро\"\n",
    "    if time.hour >= 12 and time.hour <= 17:\n",
    "        return \"день\"\n",
    "    if time.hour >= 18 and time.hour <= 23:\n",
    "        return \"вечер\"\n",
    "\n",
    "\n",
    "log['time'] = log['time'].apply(timer)  \n",
    "log['time'] = pd.to_datetime(log['time'])  \n",
    "\n",
    "log.time = log.time.apply(period)    \n",
    "log['time'].value_counts() "
   ]
  },
  {
   "cell_type": "code",
   "execution_count": null,
   "metadata": {},
   "outputs": [],
   "source": [
    " Загрузите датасет log.csv в переменную log, дальше работать будем с ней;\n",
    "\n",
    "2. Установите имена столбцов: ['user_id', 'time', 'bet', 'win'];\n",
    "\n",
    "3. Избавьтесь от пропусков в log;\n",
    "\n",
    "4. Приведите переменную time к подходящую для извлечения признаков виду;\n",
    "\n",
    "5. Получите значение часа для каждой строки в переменной time и запишите в столбец hour в log;\n",
    "\n",
    "6. Результататом будет таблица log со столбцом hour внутри. "
   ]
  },
  {
   "cell_type": "code",
   "execution_count": 119,
   "metadata": {},
   "outputs": [],
   "source": [
    "log = pd.read_csv(\"log.csv\")  \n",
    "log.columns = ['user_id', 'time', 'bet', 'win']\n",
    "\n",
    "def timer(tm):\n",
    "    \n",
    "    if str(tm) == 'nan':\n",
    "        return tm\n",
    "    else:\n",
    "        return str(tm).strip('[')\n",
    "\n",
    "log['time'] = log['time'].apply(timer)\n",
    "log.dropna(subset = ['time'], axis = 0, inplace = True)\n",
    "log['time'] = pd.to_datetime(log['time'])\n",
    "log['hour'] = log['time'].dt.hour\n",
    "\n"
   ]
  },
  {
   "cell_type": "code",
   "execution_count": 136,
   "metadata": {},
   "outputs": [
    {
     "data": {
      "text/html": [
       "<div>\n",
       "<style scoped>\n",
       "    .dataframe tbody tr th:only-of-type {\n",
       "        vertical-align: middle;\n",
       "    }\n",
       "\n",
       "    .dataframe tbody tr th {\n",
       "        vertical-align: top;\n",
       "    }\n",
       "\n",
       "    .dataframe thead th {\n",
       "        text-align: right;\n",
       "    }\n",
       "</style>\n",
       "<table border=\"1\" class=\"dataframe\">\n",
       "  <thead>\n",
       "    <tr style=\"text-align: right;\">\n",
       "      <th></th>\n",
       "      <th>user_id</th>\n",
       "      <th>time</th>\n",
       "      <th>bet</th>\n",
       "      <th>win</th>\n",
       "      <th>hour</th>\n",
       "    </tr>\n",
       "  </thead>\n",
       "  <tbody>\n",
       "    <tr>\n",
       "      <th>0</th>\n",
       "      <td>Запись пользователя № - user_973</td>\n",
       "      <td>2019-01-01 14:51:16</td>\n",
       "      <td>NaN</td>\n",
       "      <td>NaN</td>\n",
       "      <td>14</td>\n",
       "    </tr>\n",
       "    <tr>\n",
       "      <th>1</th>\n",
       "      <td>Запись пользователя № - user_903</td>\n",
       "      <td>2019-01-01 16:31:16</td>\n",
       "      <td>NaN</td>\n",
       "      <td>NaN</td>\n",
       "      <td>16</td>\n",
       "    </tr>\n",
       "    <tr>\n",
       "      <th>2</th>\n",
       "      <td>Запись пользователя № - user_954</td>\n",
       "      <td>2019-01-01 17:17:51</td>\n",
       "      <td>NaN</td>\n",
       "      <td>NaN</td>\n",
       "      <td>17</td>\n",
       "    </tr>\n",
       "    <tr>\n",
       "      <th>3</th>\n",
       "      <td>Запись пользователя № - user_954</td>\n",
       "      <td>2019-01-01 21:31:18</td>\n",
       "      <td>NaN</td>\n",
       "      <td>NaN</td>\n",
       "      <td>21</td>\n",
       "    </tr>\n",
       "    <tr>\n",
       "      <th>4</th>\n",
       "      <td>Запись пользователя № - user_917</td>\n",
       "      <td>2019-01-01 23:34:55</td>\n",
       "      <td>156789.0</td>\n",
       "      <td>NaN</td>\n",
       "      <td>23</td>\n",
       "    </tr>\n",
       "    <tr>\n",
       "      <th>5</th>\n",
       "      <td>Запись пользователя № - user_900</td>\n",
       "      <td>2019-01-01 04:37:25</td>\n",
       "      <td>NaN</td>\n",
       "      <td>NaN</td>\n",
       "      <td>4</td>\n",
       "    </tr>\n",
       "    <tr>\n",
       "      <th>6</th>\n",
       "      <td>Запись пользователя № - user_980</td>\n",
       "      <td>2019-01-01 06:31:23</td>\n",
       "      <td>NaN</td>\n",
       "      <td>NaN</td>\n",
       "      <td>6</td>\n",
       "    </tr>\n",
       "    <tr>\n",
       "      <th>7</th>\n",
       "      <td>Запись пользователя № - user_906</td>\n",
       "      <td>2019-01-02 10:57:08</td>\n",
       "      <td>NaN</td>\n",
       "      <td>NaN</td>\n",
       "      <td>10</td>\n",
       "    </tr>\n",
       "    <tr>\n",
       "      <th>8</th>\n",
       "      <td>Запись пользователя № - user_952</td>\n",
       "      <td>2019-01-02 16:55:06</td>\n",
       "      <td>NaN</td>\n",
       "      <td>NaN</td>\n",
       "      <td>16</td>\n",
       "    </tr>\n",
       "    <tr>\n",
       "      <th>9</th>\n",
       "      <td>Запись пользователя № - user_972</td>\n",
       "      <td>2019-01-02 20:47:54</td>\n",
       "      <td>NaN</td>\n",
       "      <td>NaN</td>\n",
       "      <td>20</td>\n",
       "    </tr>\n",
       "    <tr>\n",
       "      <th>10</th>\n",
       "      <td>Запись пользователя № - user_966</td>\n",
       "      <td>2019-01-02 21:32:20</td>\n",
       "      <td>NaN</td>\n",
       "      <td>NaN</td>\n",
       "      <td>21</td>\n",
       "    </tr>\n",
       "    <tr>\n",
       "      <th>11</th>\n",
       "      <td>Запись пользователя № - user_964</td>\n",
       "      <td>2019-01-02 21:32:35</td>\n",
       "      <td>NaN</td>\n",
       "      <td>NaN</td>\n",
       "      <td>21</td>\n",
       "    </tr>\n",
       "    <tr>\n",
       "      <th>12</th>\n",
       "      <td>Запись пользователя № - user_978</td>\n",
       "      <td>2019-01-02 05:25:40</td>\n",
       "      <td>NaN</td>\n",
       "      <td>NaN</td>\n",
       "      <td>5</td>\n",
       "    </tr>\n",
       "    <tr>\n",
       "      <th>13</th>\n",
       "      <td>Запись пользователя № - user_917</td>\n",
       "      <td>2019-01-02 08:57:36</td>\n",
       "      <td>145732.0</td>\n",
       "      <td>1987653.0</td>\n",
       "      <td>8</td>\n",
       "    </tr>\n",
       "    <tr>\n",
       "      <th>14</th>\n",
       "      <td>Запись пользователя № - user_968</td>\n",
       "      <td>2019-01-02 09:32:24</td>\n",
       "      <td>NaN</td>\n",
       "      <td>NaN</td>\n",
       "      <td>9</td>\n",
       "    </tr>\n",
       "    <tr>\n",
       "      <th>15</th>\n",
       "      <td>Запись пользователя № - user_974</td>\n",
       "      <td>2019-01-03 10:43:41</td>\n",
       "      <td>NaN</td>\n",
       "      <td>NaN</td>\n",
       "      <td>10</td>\n",
       "    </tr>\n",
       "    <tr>\n",
       "      <th>16</th>\n",
       "      <td>Запись пользователя № - user_998</td>\n",
       "      <td>2019-01-03 11:29:08</td>\n",
       "      <td>NaN</td>\n",
       "      <td>NaN</td>\n",
       "      <td>11</td>\n",
       "    </tr>\n",
       "    <tr>\n",
       "      <th>17</th>\n",
       "      <td>Запись пользователя № - user_990</td>\n",
       "      <td>2019-01-03 13:12:46</td>\n",
       "      <td>NaN</td>\n",
       "      <td>NaN</td>\n",
       "      <td>13</td>\n",
       "    </tr>\n",
       "    <tr>\n",
       "      <th>18</th>\n",
       "      <td>Запись пользователя № - user_942</td>\n",
       "      <td>2019-01-03 14:03:21</td>\n",
       "      <td>98753.0</td>\n",
       "      <td>NaN</td>\n",
       "      <td>14</td>\n",
       "    </tr>\n",
       "    <tr>\n",
       "      <th>19</th>\n",
       "      <td>Запись пользователя № - user_929</td>\n",
       "      <td>2019-01-03 17:20:23</td>\n",
       "      <td>NaN</td>\n",
       "      <td>NaN</td>\n",
       "      <td>17</td>\n",
       "    </tr>\n",
       "    <tr>\n",
       "      <th>20</th>\n",
       "      <td>Запись пользователя № - user_976</td>\n",
       "      <td>2019-01-03 18:24:25</td>\n",
       "      <td>NaN</td>\n",
       "      <td>NaN</td>\n",
       "      <td>18</td>\n",
       "    </tr>\n",
       "    <tr>\n",
       "      <th>21</th>\n",
       "      <td>Запись пользователя № - user_927</td>\n",
       "      <td>2019-01-03 18:45:54</td>\n",
       "      <td>NaN</td>\n",
       "      <td>NaN</td>\n",
       "      <td>18</td>\n",
       "    </tr>\n",
       "    <tr>\n",
       "      <th>22</th>\n",
       "      <td>Запись пользователя № - user_998</td>\n",
       "      <td>2019-01-03 02:48:25</td>\n",
       "      <td>NaN</td>\n",
       "      <td>NaN</td>\n",
       "      <td>2</td>\n",
       "    </tr>\n",
       "    <tr>\n",
       "      <th>23</th>\n",
       "      <td>Запись пользователя № - user_951</td>\n",
       "      <td>2019-01-03 05:30:43</td>\n",
       "      <td>NaN</td>\n",
       "      <td>NaN</td>\n",
       "      <td>5</td>\n",
       "    </tr>\n",
       "    <tr>\n",
       "      <th>24</th>\n",
       "      <td>Запись пользователя № - user_949</td>\n",
       "      <td>2019-01-03 05:49:42</td>\n",
       "      <td>NaN</td>\n",
       "      <td>NaN</td>\n",
       "      <td>5</td>\n",
       "    </tr>\n",
       "    <tr>\n",
       "      <th>25</th>\n",
       "      <td>Запись пользователя № - user_976</td>\n",
       "      <td>2019-01-04 01:59:34</td>\n",
       "      <td>NaN</td>\n",
       "      <td>NaN</td>\n",
       "      <td>1</td>\n",
       "    </tr>\n",
       "    <tr>\n",
       "      <th>26</th>\n",
       "      <td>Запись пользователя № - user_987</td>\n",
       "      <td>2019-01-04 11:50:21</td>\n",
       "      <td>NaN</td>\n",
       "      <td>NaN</td>\n",
       "      <td>11</td>\n",
       "    </tr>\n",
       "    <tr>\n",
       "      <th>27</th>\n",
       "      <td>Запись пользователя № - user_976</td>\n",
       "      <td>2019-01-04 12:49:31</td>\n",
       "      <td>NaN</td>\n",
       "      <td>NaN</td>\n",
       "      <td>12</td>\n",
       "    </tr>\n",
       "    <tr>\n",
       "      <th>28</th>\n",
       "      <td>Запись пользователя № - user_942</td>\n",
       "      <td>2019-01-04 13:59:42</td>\n",
       "      <td>1678321.0</td>\n",
       "      <td>9876543.0</td>\n",
       "      <td>13</td>\n",
       "    </tr>\n",
       "    <tr>\n",
       "      <th>29</th>\n",
       "      <td>Запись пользователя № - user_985</td>\n",
       "      <td>2019-01-04 15:07:26</td>\n",
       "      <td>NaN</td>\n",
       "      <td>NaN</td>\n",
       "      <td>15</td>\n",
       "    </tr>\n",
       "    <tr>\n",
       "      <th>...</th>\n",
       "      <td>...</td>\n",
       "      <td>...</td>\n",
       "      <td>...</td>\n",
       "      <td>...</td>\n",
       "      <td>...</td>\n",
       "    </tr>\n",
       "    <tr>\n",
       "      <th>954</th>\n",
       "      <td>Запись пользователя № - user_967</td>\n",
       "      <td>2019-04-18 19:43:51</td>\n",
       "      <td>200.0</td>\n",
       "      <td>5213.0</td>\n",
       "      <td>19</td>\n",
       "    </tr>\n",
       "    <tr>\n",
       "      <th>955</th>\n",
       "      <td>Запись пользователя № - user_910</td>\n",
       "      <td>2019-04-18 02:34:52</td>\n",
       "      <td>104540.0</td>\n",
       "      <td>NaN</td>\n",
       "      <td>2</td>\n",
       "    </tr>\n",
       "    <tr>\n",
       "      <th>956</th>\n",
       "      <td>Запись пользователя № - user_981</td>\n",
       "      <td>2019-04-18 22:41:27</td>\n",
       "      <td>1000.0</td>\n",
       "      <td>NaN</td>\n",
       "      <td>22</td>\n",
       "    </tr>\n",
       "    <tr>\n",
       "      <th>957</th>\n",
       "      <td>Запись пользователя № - user_995</td>\n",
       "      <td>2019-04-18 04:33:31</td>\n",
       "      <td>9954.0</td>\n",
       "      <td>NaN</td>\n",
       "      <td>4</td>\n",
       "    </tr>\n",
       "    <tr>\n",
       "      <th>958</th>\n",
       "      <td>Запись пользователя № - user_929</td>\n",
       "      <td>2019-04-18 07:35:02</td>\n",
       "      <td>1000.0</td>\n",
       "      <td>NaN</td>\n",
       "      <td>7</td>\n",
       "    </tr>\n",
       "    <tr>\n",
       "      <th>959</th>\n",
       "      <td>Запись пользователя № - user_938</td>\n",
       "      <td>2019-04-18 08:06:43</td>\n",
       "      <td>9954.0</td>\n",
       "      <td>NaN</td>\n",
       "      <td>8</td>\n",
       "    </tr>\n",
       "    <tr>\n",
       "      <th>960</th>\n",
       "      <td>Запись пользователя № - user_950</td>\n",
       "      <td>2019-04-18 08:14:24</td>\n",
       "      <td>1000.0</td>\n",
       "      <td>6072.0</td>\n",
       "      <td>8</td>\n",
       "    </tr>\n",
       "    <tr>\n",
       "      <th>961</th>\n",
       "      <td>Запись пользователя № - user_976</td>\n",
       "      <td>2019-04-19 14:18:45</td>\n",
       "      <td>400.0</td>\n",
       "      <td>5997.0</td>\n",
       "      <td>14</td>\n",
       "    </tr>\n",
       "    <tr>\n",
       "      <th>962</th>\n",
       "      <td>Запись пользователя № - user_983</td>\n",
       "      <td>2019-04-19 16:03:17</td>\n",
       "      <td>400.0</td>\n",
       "      <td>NaN</td>\n",
       "      <td>16</td>\n",
       "    </tr>\n",
       "    <tr>\n",
       "      <th>963</th>\n",
       "      <td>Запись пользователя № - user_926</td>\n",
       "      <td>2019-04-19 17:29:36</td>\n",
       "      <td>600.0</td>\n",
       "      <td>NaN</td>\n",
       "      <td>17</td>\n",
       "    </tr>\n",
       "    <tr>\n",
       "      <th>964</th>\n",
       "      <td>Запись пользователя № - user_900</td>\n",
       "      <td>2019-04-19 19:31:48</td>\n",
       "      <td>900.0</td>\n",
       "      <td>6767.0</td>\n",
       "      <td>19</td>\n",
       "    </tr>\n",
       "    <tr>\n",
       "      <th>965</th>\n",
       "      <td>Запись пользователя № - user_940</td>\n",
       "      <td>2019-04-19 20:34:13</td>\n",
       "      <td>10754.0</td>\n",
       "      <td>32279.0</td>\n",
       "      <td>20</td>\n",
       "    </tr>\n",
       "    <tr>\n",
       "      <th>966</th>\n",
       "      <td>Запись пользователя № - user_975</td>\n",
       "      <td>2019-04-19 22:25:15</td>\n",
       "      <td>1000.0</td>\n",
       "      <td>6108.0</td>\n",
       "      <td>22</td>\n",
       "    </tr>\n",
       "    <tr>\n",
       "      <th>967</th>\n",
       "      <td>Запись пользователя № - user_912</td>\n",
       "      <td>2019-04-19 05:29:34</td>\n",
       "      <td>700.0</td>\n",
       "      <td>NaN</td>\n",
       "      <td>5</td>\n",
       "    </tr>\n",
       "    <tr>\n",
       "      <th>968</th>\n",
       "      <td>Запись пользователя № - user_963</td>\n",
       "      <td>2019-04-19 08:58:07</td>\n",
       "      <td>800.0</td>\n",
       "      <td>NaN</td>\n",
       "      <td>8</td>\n",
       "    </tr>\n",
       "    <tr>\n",
       "      <th>969</th>\n",
       "      <td>Запись пользователя № - user_991</td>\n",
       "      <td>2019-04-20 01:18:20</td>\n",
       "      <td>700.0</td>\n",
       "      <td>NaN</td>\n",
       "      <td>1</td>\n",
       "    </tr>\n",
       "    <tr>\n",
       "      <th>970</th>\n",
       "      <td>Запись пользователя № - user_912</td>\n",
       "      <td>2019-04-20 10:35:49</td>\n",
       "      <td>10554.0</td>\n",
       "      <td>31799.0</td>\n",
       "      <td>10</td>\n",
       "    </tr>\n",
       "    <tr>\n",
       "      <th>971</th>\n",
       "      <td>Запись пользователя № - user_926</td>\n",
       "      <td>2019-04-20 10:35:50</td>\n",
       "      <td>10354.0</td>\n",
       "      <td>30244.0</td>\n",
       "      <td>10</td>\n",
       "    </tr>\n",
       "    <tr>\n",
       "      <th>972</th>\n",
       "      <td>Запись пользователя № - user_904</td>\n",
       "      <td>2019-04-20 10:35:51</td>\n",
       "      <td>600.0</td>\n",
       "      <td>NaN</td>\n",
       "      <td>10</td>\n",
       "    </tr>\n",
       "    <tr>\n",
       "      <th>973</th>\n",
       "      <td>Запись пользователя № - user_987</td>\n",
       "      <td>2019-04-20 10:35:52</td>\n",
       "      <td>9754.0</td>\n",
       "      <td>NaN</td>\n",
       "      <td>10</td>\n",
       "    </tr>\n",
       "    <tr>\n",
       "      <th>974</th>\n",
       "      <td>Запись пользователя № - user_913</td>\n",
       "      <td>2019-04-20 10:35:53</td>\n",
       "      <td>10754.0</td>\n",
       "      <td>NaN</td>\n",
       "      <td>10</td>\n",
       "    </tr>\n",
       "    <tr>\n",
       "      <th>975</th>\n",
       "      <td>Запись пользователя № - user_970</td>\n",
       "      <td>2019-04-20 10:35:54</td>\n",
       "      <td>10354.0</td>\n",
       "      <td>30691.0</td>\n",
       "      <td>10</td>\n",
       "    </tr>\n",
       "    <tr>\n",
       "      <th>983</th>\n",
       "      <td>Запись пользователя № - user_925</td>\n",
       "      <td>2019-04-20 12:55:00</td>\n",
       "      <td>1000.0</td>\n",
       "      <td>NaN</td>\n",
       "      <td>12</td>\n",
       "    </tr>\n",
       "    <tr>\n",
       "      <th>988</th>\n",
       "      <td>Запись пользователя № - user_953</td>\n",
       "      <td>2019-04-20 12:55:39</td>\n",
       "      <td>9954.0</td>\n",
       "      <td>NaN</td>\n",
       "      <td>12</td>\n",
       "    </tr>\n",
       "    <tr>\n",
       "      <th>989</th>\n",
       "      <td>Запись пользователя № - user_954</td>\n",
       "      <td>2019-04-20 12:55:40</td>\n",
       "      <td>9854.0</td>\n",
       "      <td>NaN</td>\n",
       "      <td>12</td>\n",
       "    </tr>\n",
       "    <tr>\n",
       "      <th>990</th>\n",
       "      <td>Запись пользователя № - user_965</td>\n",
       "      <td>2019-04-20 12:55:41</td>\n",
       "      <td>800.0</td>\n",
       "      <td>6927.0</td>\n",
       "      <td>12</td>\n",
       "    </tr>\n",
       "    <tr>\n",
       "      <th>991</th>\n",
       "      <td>Запись пользователя № - user_967</td>\n",
       "      <td>2019-04-20 14:59:36</td>\n",
       "      <td>10154.0</td>\n",
       "      <td>NaN</td>\n",
       "      <td>14</td>\n",
       "    </tr>\n",
       "    <tr>\n",
       "      <th>992</th>\n",
       "      <td>Запись пользователя № - user_973</td>\n",
       "      <td>2019-04-20 17:09:56</td>\n",
       "      <td>10254.0</td>\n",
       "      <td>NaN</td>\n",
       "      <td>17</td>\n",
       "    </tr>\n",
       "    <tr>\n",
       "      <th>993</th>\n",
       "      <td>Запись пользователя № - user_977</td>\n",
       "      <td>2019-04-20 18:10:07</td>\n",
       "      <td>10354.0</td>\n",
       "      <td>NaN</td>\n",
       "      <td>18</td>\n",
       "    </tr>\n",
       "    <tr>\n",
       "      <th>994</th>\n",
       "      <td>Запись пользователя № - user_984</td>\n",
       "      <td>2019-04-20 09:59:58</td>\n",
       "      <td>9754.0</td>\n",
       "      <td>NaN</td>\n",
       "      <td>9</td>\n",
       "    </tr>\n",
       "  </tbody>\n",
       "</table>\n",
       "<p>984 rows × 5 columns</p>\n",
       "</div>"
      ],
      "text/plain": [
       "                              user_id                time        bet  \\\n",
       "0    Запись пользователя № - user_973 2019-01-01 14:51:16        NaN   \n",
       "1    Запись пользователя № - user_903 2019-01-01 16:31:16        NaN   \n",
       "2    Запись пользователя № - user_954 2019-01-01 17:17:51        NaN   \n",
       "3    Запись пользователя № - user_954 2019-01-01 21:31:18        NaN   \n",
       "4    Запись пользователя № - user_917 2019-01-01 23:34:55   156789.0   \n",
       "5    Запись пользователя № - user_900 2019-01-01 04:37:25        NaN   \n",
       "6    Запись пользователя № - user_980 2019-01-01 06:31:23        NaN   \n",
       "7    Запись пользователя № - user_906 2019-01-02 10:57:08        NaN   \n",
       "8    Запись пользователя № - user_952 2019-01-02 16:55:06        NaN   \n",
       "9    Запись пользователя № - user_972 2019-01-02 20:47:54        NaN   \n",
       "10   Запись пользователя № - user_966 2019-01-02 21:32:20        NaN   \n",
       "11   Запись пользователя № - user_964 2019-01-02 21:32:35        NaN   \n",
       "12   Запись пользователя № - user_978 2019-01-02 05:25:40        NaN   \n",
       "13   Запись пользователя № - user_917 2019-01-02 08:57:36   145732.0   \n",
       "14   Запись пользователя № - user_968 2019-01-02 09:32:24        NaN   \n",
       "15   Запись пользователя № - user_974 2019-01-03 10:43:41        NaN   \n",
       "16   Запись пользователя № - user_998 2019-01-03 11:29:08        NaN   \n",
       "17   Запись пользователя № - user_990 2019-01-03 13:12:46        NaN   \n",
       "18   Запись пользователя № - user_942 2019-01-03 14:03:21    98753.0   \n",
       "19   Запись пользователя № - user_929 2019-01-03 17:20:23        NaN   \n",
       "20   Запись пользователя № - user_976 2019-01-03 18:24:25        NaN   \n",
       "21   Запись пользователя № - user_927 2019-01-03 18:45:54        NaN   \n",
       "22   Запись пользователя № - user_998 2019-01-03 02:48:25        NaN   \n",
       "23   Запись пользователя № - user_951 2019-01-03 05:30:43        NaN   \n",
       "24   Запись пользователя № - user_949 2019-01-03 05:49:42        NaN   \n",
       "25   Запись пользователя № - user_976 2019-01-04 01:59:34        NaN   \n",
       "26   Запись пользователя № - user_987 2019-01-04 11:50:21        NaN   \n",
       "27   Запись пользователя № - user_976 2019-01-04 12:49:31        NaN   \n",
       "28   Запись пользователя № - user_942 2019-01-04 13:59:42  1678321.0   \n",
       "29   Запись пользователя № - user_985 2019-01-04 15:07:26        NaN   \n",
       "..                                ...                 ...        ...   \n",
       "954  Запись пользователя № - user_967 2019-04-18 19:43:51      200.0   \n",
       "955  Запись пользователя № - user_910 2019-04-18 02:34:52   104540.0   \n",
       "956  Запись пользователя № - user_981 2019-04-18 22:41:27     1000.0   \n",
       "957  Запись пользователя № - user_995 2019-04-18 04:33:31     9954.0   \n",
       "958  Запись пользователя № - user_929 2019-04-18 07:35:02     1000.0   \n",
       "959  Запись пользователя № - user_938 2019-04-18 08:06:43     9954.0   \n",
       "960  Запись пользователя № - user_950 2019-04-18 08:14:24     1000.0   \n",
       "961  Запись пользователя № - user_976 2019-04-19 14:18:45      400.0   \n",
       "962  Запись пользователя № - user_983 2019-04-19 16:03:17      400.0   \n",
       "963  Запись пользователя № - user_926 2019-04-19 17:29:36      600.0   \n",
       "964  Запись пользователя № - user_900 2019-04-19 19:31:48      900.0   \n",
       "965  Запись пользователя № - user_940 2019-04-19 20:34:13    10754.0   \n",
       "966  Запись пользователя № - user_975 2019-04-19 22:25:15     1000.0   \n",
       "967  Запись пользователя № - user_912 2019-04-19 05:29:34      700.0   \n",
       "968  Запись пользователя № - user_963 2019-04-19 08:58:07      800.0   \n",
       "969  Запись пользователя № - user_991 2019-04-20 01:18:20      700.0   \n",
       "970  Запись пользователя № - user_912 2019-04-20 10:35:49    10554.0   \n",
       "971  Запись пользователя № - user_926 2019-04-20 10:35:50    10354.0   \n",
       "972  Запись пользователя № - user_904 2019-04-20 10:35:51      600.0   \n",
       "973  Запись пользователя № - user_987 2019-04-20 10:35:52     9754.0   \n",
       "974  Запись пользователя № - user_913 2019-04-20 10:35:53    10754.0   \n",
       "975  Запись пользователя № - user_970 2019-04-20 10:35:54    10354.0   \n",
       "983  Запись пользователя № - user_925 2019-04-20 12:55:00     1000.0   \n",
       "988  Запись пользователя № - user_953 2019-04-20 12:55:39     9954.0   \n",
       "989  Запись пользователя № - user_954 2019-04-20 12:55:40     9854.0   \n",
       "990  Запись пользователя № - user_965 2019-04-20 12:55:41      800.0   \n",
       "991  Запись пользователя № - user_967 2019-04-20 14:59:36    10154.0   \n",
       "992  Запись пользователя № - user_973 2019-04-20 17:09:56    10254.0   \n",
       "993  Запись пользователя № - user_977 2019-04-20 18:10:07    10354.0   \n",
       "994  Запись пользователя № - user_984 2019-04-20 09:59:58     9754.0   \n",
       "\n",
       "           win  hour  \n",
       "0          NaN    14  \n",
       "1          NaN    16  \n",
       "2          NaN    17  \n",
       "3          NaN    21  \n",
       "4          NaN    23  \n",
       "5          NaN     4  \n",
       "6          NaN     6  \n",
       "7          NaN    10  \n",
       "8          NaN    16  \n",
       "9          NaN    20  \n",
       "10         NaN    21  \n",
       "11         NaN    21  \n",
       "12         NaN     5  \n",
       "13   1987653.0     8  \n",
       "14         NaN     9  \n",
       "15         NaN    10  \n",
       "16         NaN    11  \n",
       "17         NaN    13  \n",
       "18         NaN    14  \n",
       "19         NaN    17  \n",
       "20         NaN    18  \n",
       "21         NaN    18  \n",
       "22         NaN     2  \n",
       "23         NaN     5  \n",
       "24         NaN     5  \n",
       "25         NaN     1  \n",
       "26         NaN    11  \n",
       "27         NaN    12  \n",
       "28   9876543.0    13  \n",
       "29         NaN    15  \n",
       "..         ...   ...  \n",
       "954     5213.0    19  \n",
       "955        NaN     2  \n",
       "956        NaN    22  \n",
       "957        NaN     4  \n",
       "958        NaN     7  \n",
       "959        NaN     8  \n",
       "960     6072.0     8  \n",
       "961     5997.0    14  \n",
       "962        NaN    16  \n",
       "963        NaN    17  \n",
       "964     6767.0    19  \n",
       "965    32279.0    20  \n",
       "966     6108.0    22  \n",
       "967        NaN     5  \n",
       "968        NaN     8  \n",
       "969        NaN     1  \n",
       "970    31799.0    10  \n",
       "971    30244.0    10  \n",
       "972        NaN    10  \n",
       "973        NaN    10  \n",
       "974        NaN    10  \n",
       "975    30691.0    10  \n",
       "983        NaN    12  \n",
       "988        NaN    12  \n",
       "989        NaN    12  \n",
       "990     6927.0    12  \n",
       "991        NaN    14  \n",
       "992        NaN    17  \n",
       "993        NaN    18  \n",
       "994        NaN     9  \n",
       "\n",
       "[984 rows x 5 columns]"
      ]
     },
     "execution_count": 136,
     "metadata": {},
     "output_type": "execute_result"
    }
   ],
   "source": [
    "log = pd.read_csv(\"log.csv\")  \n",
    "log.columns = ['user_id', 'time', 'bet', 'win']\n",
    "\n",
    "def timer(tm):\n",
    "    \n",
    "    if str(tm) == 'nan':\n",
    "        return tm\n",
    "    else:\n",
    "        return str(tm).strip('[')\n",
    "\n",
    "log['time'] = log['time'].apply(timer)\n",
    "log.dropna(subset = ['time'], axis = 0, inplace = True)\n",
    "log['time'] = pd.to_datetime(log['time'])\n",
    "time = log['time'].dt.hour\n",
    "log['hour'] = time\n",
    "log"
   ]
  },
  {
   "cell_type": "code",
   "execution_count": 3,
   "metadata": {},
   "outputs": [],
   "source": [
    "import pandas as pd\n",
    "log = pd.read_csv(\"log.csv\", header=None)  \n",
    "log.columns = ['user_id', 'time', 'bet', 'win']\n",
    "log=log.dropna()\n",
    "log.dropna(subset = ['time'])\n",
    "def timer(tm):\n",
    "    \n",
    "    if str(tm) == 'nan':\n",
    "        return tm\n",
    "    else:\n",
    "        return str(tm).strip('[')\n",
    "\n",
    "log['time'] = log['time'].apply(timer)\n",
    "log['time'] = pd.to_datetime(log['time'])\n",
    "log['hour'] = log['time'].dt.hour"
   ]
  },
  {
   "cell_type": "code",
   "execution_count": 12,
   "metadata": {},
   "outputs": [],
   "source": [
    "import pandas as pd\n",
    "log=pd.read_csv('log.csv', header=None)\n",
    "log.columns = ['user_id', 'time', 'bet', 'win']\n",
    "log.dropna(subset = ['time'])\n",
    "def timer(tm):\n",
    "    \n",
    "    if str(tm) == 'nan':\n",
    "        return tm\n",
    "    else:\n",
    "        return str(tm).strip('[')\n",
    "\n",
    "log['time'] = log['time'].apply(timer)\n",
    "log['time'] = pd.to_datetime(log['time'])\n",
    "log['bet'] = log['bet'].fillna(0)"
   ]
  },
  {
   "cell_type": "code",
   "execution_count": 13,
   "metadata": {},
   "outputs": [
    {
     "data": {
      "text/html": [
       "<div>\n",
       "<style scoped>\n",
       "    .dataframe tbody tr th:only-of-type {\n",
       "        vertical-align: middle;\n",
       "    }\n",
       "\n",
       "    .dataframe tbody tr th {\n",
       "        vertical-align: top;\n",
       "    }\n",
       "\n",
       "    .dataframe thead th {\n",
       "        text-align: right;\n",
       "    }\n",
       "</style>\n",
       "<table border=\"1\" class=\"dataframe\">\n",
       "  <thead>\n",
       "    <tr style=\"text-align: right;\">\n",
       "      <th></th>\n",
       "      <th>user_id</th>\n",
       "      <th>time</th>\n",
       "      <th>bet</th>\n",
       "      <th>win</th>\n",
       "    </tr>\n",
       "  </thead>\n",
       "  <tbody>\n",
       "    <tr>\n",
       "      <th>0</th>\n",
       "      <td>Запись пользователя № - user_919</td>\n",
       "      <td>2019-01-01 14:06:51</td>\n",
       "      <td>0.0</td>\n",
       "      <td>NaN</td>\n",
       "    </tr>\n",
       "    <tr>\n",
       "      <th>1</th>\n",
       "      <td>Запись пользователя № - user_973</td>\n",
       "      <td>2019-01-01 14:51:16</td>\n",
       "      <td>0.0</td>\n",
       "      <td>NaN</td>\n",
       "    </tr>\n",
       "    <tr>\n",
       "      <th>2</th>\n",
       "      <td>Запись пользователя № - user_903</td>\n",
       "      <td>2019-01-01 16:31:16</td>\n",
       "      <td>0.0</td>\n",
       "      <td>NaN</td>\n",
       "    </tr>\n",
       "    <tr>\n",
       "      <th>3</th>\n",
       "      <td>Запись пользователя № - user_954</td>\n",
       "      <td>2019-01-01 17:17:51</td>\n",
       "      <td>0.0</td>\n",
       "      <td>NaN</td>\n",
       "    </tr>\n",
       "    <tr>\n",
       "      <th>4</th>\n",
       "      <td>Запись пользователя № - user_954</td>\n",
       "      <td>2019-01-01 21:31:18</td>\n",
       "      <td>0.0</td>\n",
       "      <td>NaN</td>\n",
       "    </tr>\n",
       "    <tr>\n",
       "      <th>5</th>\n",
       "      <td>Запись пользователя № - user_917</td>\n",
       "      <td>2019-01-01 23:34:55</td>\n",
       "      <td>156789.0</td>\n",
       "      <td>NaN</td>\n",
       "    </tr>\n",
       "    <tr>\n",
       "      <th>6</th>\n",
       "      <td>Запись пользователя № - user_900</td>\n",
       "      <td>2019-01-01 04:37:25</td>\n",
       "      <td>0.0</td>\n",
       "      <td>NaN</td>\n",
       "    </tr>\n",
       "    <tr>\n",
       "      <th>7</th>\n",
       "      <td>Запись пользователя № - user_980</td>\n",
       "      <td>2019-01-01 06:31:23</td>\n",
       "      <td>0.0</td>\n",
       "      <td>NaN</td>\n",
       "    </tr>\n",
       "    <tr>\n",
       "      <th>8</th>\n",
       "      <td>Запись пользователя № - user_906</td>\n",
       "      <td>2019-01-02 10:57:08</td>\n",
       "      <td>0.0</td>\n",
       "      <td>NaN</td>\n",
       "    </tr>\n",
       "    <tr>\n",
       "      <th>9</th>\n",
       "      <td>Запись пользователя № - user_952</td>\n",
       "      <td>2019-01-02 16:55:06</td>\n",
       "      <td>0.0</td>\n",
       "      <td>NaN</td>\n",
       "    </tr>\n",
       "    <tr>\n",
       "      <th>10</th>\n",
       "      <td>Запись пользователя № - user_972</td>\n",
       "      <td>2019-01-02 20:47:54</td>\n",
       "      <td>0.0</td>\n",
       "      <td>NaN</td>\n",
       "    </tr>\n",
       "    <tr>\n",
       "      <th>11</th>\n",
       "      <td>Запись пользователя № - user_966</td>\n",
       "      <td>2019-01-02 21:32:20</td>\n",
       "      <td>0.0</td>\n",
       "      <td>NaN</td>\n",
       "    </tr>\n",
       "    <tr>\n",
       "      <th>12</th>\n",
       "      <td>Запись пользователя № - user_964</td>\n",
       "      <td>2019-01-02 21:32:35</td>\n",
       "      <td>0.0</td>\n",
       "      <td>NaN</td>\n",
       "    </tr>\n",
       "    <tr>\n",
       "      <th>13</th>\n",
       "      <td>Запись пользователя № - user_978</td>\n",
       "      <td>2019-01-02 05:25:40</td>\n",
       "      <td>0.0</td>\n",
       "      <td>NaN</td>\n",
       "    </tr>\n",
       "    <tr>\n",
       "      <th>14</th>\n",
       "      <td>Запись пользователя № - user_917</td>\n",
       "      <td>2019-01-02 08:57:36</td>\n",
       "      <td>145732.0</td>\n",
       "      <td>1987653.0</td>\n",
       "    </tr>\n",
       "    <tr>\n",
       "      <th>15</th>\n",
       "      <td>Запись пользователя № - user_968</td>\n",
       "      <td>2019-01-02 09:32:24</td>\n",
       "      <td>0.0</td>\n",
       "      <td>NaN</td>\n",
       "    </tr>\n",
       "    <tr>\n",
       "      <th>16</th>\n",
       "      <td>Запись пользователя № - user_974</td>\n",
       "      <td>2019-01-03 10:43:41</td>\n",
       "      <td>0.0</td>\n",
       "      <td>NaN</td>\n",
       "    </tr>\n",
       "    <tr>\n",
       "      <th>17</th>\n",
       "      <td>Запись пользователя № - user_998</td>\n",
       "      <td>2019-01-03 11:29:08</td>\n",
       "      <td>0.0</td>\n",
       "      <td>NaN</td>\n",
       "    </tr>\n",
       "    <tr>\n",
       "      <th>18</th>\n",
       "      <td>Запись пользователя № - user_990</td>\n",
       "      <td>2019-01-03 13:12:46</td>\n",
       "      <td>0.0</td>\n",
       "      <td>NaN</td>\n",
       "    </tr>\n",
       "    <tr>\n",
       "      <th>19</th>\n",
       "      <td>Запись пользователя № - user_942</td>\n",
       "      <td>2019-01-03 14:03:21</td>\n",
       "      <td>98753.0</td>\n",
       "      <td>NaN</td>\n",
       "    </tr>\n",
       "    <tr>\n",
       "      <th>20</th>\n",
       "      <td>Запись пользователя № - user_929</td>\n",
       "      <td>2019-01-03 17:20:23</td>\n",
       "      <td>0.0</td>\n",
       "      <td>NaN</td>\n",
       "    </tr>\n",
       "    <tr>\n",
       "      <th>21</th>\n",
       "      <td>Запись пользователя № - user_976</td>\n",
       "      <td>2019-01-03 18:24:25</td>\n",
       "      <td>0.0</td>\n",
       "      <td>NaN</td>\n",
       "    </tr>\n",
       "    <tr>\n",
       "      <th>22</th>\n",
       "      <td>Запись пользователя № - user_927</td>\n",
       "      <td>2019-01-03 18:45:54</td>\n",
       "      <td>0.0</td>\n",
       "      <td>NaN</td>\n",
       "    </tr>\n",
       "    <tr>\n",
       "      <th>23</th>\n",
       "      <td>Запись пользователя № - user_998</td>\n",
       "      <td>2019-01-03 02:48:25</td>\n",
       "      <td>0.0</td>\n",
       "      <td>NaN</td>\n",
       "    </tr>\n",
       "    <tr>\n",
       "      <th>24</th>\n",
       "      <td>Запись пользователя № - user_951</td>\n",
       "      <td>2019-01-03 05:30:43</td>\n",
       "      <td>0.0</td>\n",
       "      <td>NaN</td>\n",
       "    </tr>\n",
       "    <tr>\n",
       "      <th>25</th>\n",
       "      <td>Запись пользователя № - user_949</td>\n",
       "      <td>2019-01-03 05:49:42</td>\n",
       "      <td>0.0</td>\n",
       "      <td>NaN</td>\n",
       "    </tr>\n",
       "    <tr>\n",
       "      <th>26</th>\n",
       "      <td>Запись пользователя № - user_976</td>\n",
       "      <td>2019-01-04 01:59:34</td>\n",
       "      <td>0.0</td>\n",
       "      <td>NaN</td>\n",
       "    </tr>\n",
       "    <tr>\n",
       "      <th>27</th>\n",
       "      <td>Запись пользователя № - user_987</td>\n",
       "      <td>2019-01-04 11:50:21</td>\n",
       "      <td>0.0</td>\n",
       "      <td>NaN</td>\n",
       "    </tr>\n",
       "    <tr>\n",
       "      <th>28</th>\n",
       "      <td>Запись пользователя № - user_976</td>\n",
       "      <td>2019-01-04 12:49:31</td>\n",
       "      <td>0.0</td>\n",
       "      <td>NaN</td>\n",
       "    </tr>\n",
       "    <tr>\n",
       "      <th>29</th>\n",
       "      <td>Запись пользователя № - user_942</td>\n",
       "      <td>2019-01-04 13:59:42</td>\n",
       "      <td>1678321.0</td>\n",
       "      <td>9876543.0</td>\n",
       "    </tr>\n",
       "    <tr>\n",
       "      <th>...</th>\n",
       "      <td>...</td>\n",
       "      <td>...</td>\n",
       "      <td>...</td>\n",
       "      <td>...</td>\n",
       "    </tr>\n",
       "    <tr>\n",
       "      <th>970</th>\n",
       "      <td>Запись пользователя № - user_991</td>\n",
       "      <td>2019-04-20 01:18:20</td>\n",
       "      <td>700.0</td>\n",
       "      <td>NaN</td>\n",
       "    </tr>\n",
       "    <tr>\n",
       "      <th>971</th>\n",
       "      <td>Запись пользователя № - user_912</td>\n",
       "      <td>2019-04-20 10:35:49</td>\n",
       "      <td>10554.0</td>\n",
       "      <td>31799.0</td>\n",
       "    </tr>\n",
       "    <tr>\n",
       "      <th>972</th>\n",
       "      <td>Запись пользователя № - user_926</td>\n",
       "      <td>2019-04-20 10:35:50</td>\n",
       "      <td>10354.0</td>\n",
       "      <td>30244.0</td>\n",
       "    </tr>\n",
       "    <tr>\n",
       "      <th>973</th>\n",
       "      <td>Запись пользователя № - user_904</td>\n",
       "      <td>2019-04-20 10:35:51</td>\n",
       "      <td>600.0</td>\n",
       "      <td>NaN</td>\n",
       "    </tr>\n",
       "    <tr>\n",
       "      <th>974</th>\n",
       "      <td>Запись пользователя № - user_987</td>\n",
       "      <td>2019-04-20 10:35:52</td>\n",
       "      <td>9754.0</td>\n",
       "      <td>NaN</td>\n",
       "    </tr>\n",
       "    <tr>\n",
       "      <th>975</th>\n",
       "      <td>Запись пользователя № - user_913</td>\n",
       "      <td>2019-04-20 10:35:53</td>\n",
       "      <td>10754.0</td>\n",
       "      <td>NaN</td>\n",
       "    </tr>\n",
       "    <tr>\n",
       "      <th>976</th>\n",
       "      <td>Запись пользователя № - user_970</td>\n",
       "      <td>2019-04-20 10:35:54</td>\n",
       "      <td>10354.0</td>\n",
       "      <td>30691.0</td>\n",
       "    </tr>\n",
       "    <tr>\n",
       "      <th>977</th>\n",
       "      <td>#error</td>\n",
       "      <td>NaT</td>\n",
       "      <td>0.0</td>\n",
       "      <td>NaN</td>\n",
       "    </tr>\n",
       "    <tr>\n",
       "      <th>978</th>\n",
       "      <td>#error</td>\n",
       "      <td>NaT</td>\n",
       "      <td>10554.0</td>\n",
       "      <td>NaN</td>\n",
       "    </tr>\n",
       "    <tr>\n",
       "      <th>979</th>\n",
       "      <td>#error</td>\n",
       "      <td>NaT</td>\n",
       "      <td>0.0</td>\n",
       "      <td>NaN</td>\n",
       "    </tr>\n",
       "    <tr>\n",
       "      <th>980</th>\n",
       "      <td>#error</td>\n",
       "      <td>NaT</td>\n",
       "      <td>10454.0</td>\n",
       "      <td>30117.0</td>\n",
       "    </tr>\n",
       "    <tr>\n",
       "      <th>981</th>\n",
       "      <td>#error</td>\n",
       "      <td>NaT</td>\n",
       "      <td>800.0</td>\n",
       "      <td>7035.0</td>\n",
       "    </tr>\n",
       "    <tr>\n",
       "      <th>982</th>\n",
       "      <td>#error</td>\n",
       "      <td>NaT</td>\n",
       "      <td>900.0</td>\n",
       "      <td>NaN</td>\n",
       "    </tr>\n",
       "    <tr>\n",
       "      <th>983</th>\n",
       "      <td>#error</td>\n",
       "      <td>NaT</td>\n",
       "      <td>500.0</td>\n",
       "      <td>NaN</td>\n",
       "    </tr>\n",
       "    <tr>\n",
       "      <th>984</th>\n",
       "      <td>Запись пользователя № - user_925</td>\n",
       "      <td>2019-04-20 12:55:00</td>\n",
       "      <td>1000.0</td>\n",
       "      <td>NaN</td>\n",
       "    </tr>\n",
       "    <tr>\n",
       "      <th>985</th>\n",
       "      <td>#error</td>\n",
       "      <td>NaT</td>\n",
       "      <td>900.0</td>\n",
       "      <td>NaN</td>\n",
       "    </tr>\n",
       "    <tr>\n",
       "      <th>986</th>\n",
       "      <td>#error</td>\n",
       "      <td>NaT</td>\n",
       "      <td>10454.0</td>\n",
       "      <td>29972.0</td>\n",
       "    </tr>\n",
       "    <tr>\n",
       "      <th>987</th>\n",
       "      <td>#error</td>\n",
       "      <td>NaT</td>\n",
       "      <td>10554.0</td>\n",
       "      <td>31634.0</td>\n",
       "    </tr>\n",
       "    <tr>\n",
       "      <th>988</th>\n",
       "      <td>#error</td>\n",
       "      <td>NaT</td>\n",
       "      <td>1000.0</td>\n",
       "      <td>NaN</td>\n",
       "    </tr>\n",
       "    <tr>\n",
       "      <th>989</th>\n",
       "      <td>Запись пользователя № - user_953</td>\n",
       "      <td>2019-04-20 12:55:39</td>\n",
       "      <td>9954.0</td>\n",
       "      <td>NaN</td>\n",
       "    </tr>\n",
       "    <tr>\n",
       "      <th>990</th>\n",
       "      <td>Запись пользователя № - user_954</td>\n",
       "      <td>2019-04-20 12:55:40</td>\n",
       "      <td>9854.0</td>\n",
       "      <td>NaN</td>\n",
       "    </tr>\n",
       "    <tr>\n",
       "      <th>991</th>\n",
       "      <td>Запись пользователя № - user_965</td>\n",
       "      <td>2019-04-20 12:55:41</td>\n",
       "      <td>800.0</td>\n",
       "      <td>6927.0</td>\n",
       "    </tr>\n",
       "    <tr>\n",
       "      <th>992</th>\n",
       "      <td>Запись пользователя № - user_967</td>\n",
       "      <td>2019-04-20 14:59:36</td>\n",
       "      <td>10154.0</td>\n",
       "      <td>NaN</td>\n",
       "    </tr>\n",
       "    <tr>\n",
       "      <th>993</th>\n",
       "      <td>Запись пользователя № - user_973</td>\n",
       "      <td>2019-04-20 17:09:56</td>\n",
       "      <td>10254.0</td>\n",
       "      <td>NaN</td>\n",
       "    </tr>\n",
       "    <tr>\n",
       "      <th>994</th>\n",
       "      <td>Запись пользователя № - user_977</td>\n",
       "      <td>2019-04-20 18:10:07</td>\n",
       "      <td>10354.0</td>\n",
       "      <td>NaN</td>\n",
       "    </tr>\n",
       "    <tr>\n",
       "      <th>995</th>\n",
       "      <td>Запись пользователя № - user_984</td>\n",
       "      <td>2019-04-20 09:59:58</td>\n",
       "      <td>9754.0</td>\n",
       "      <td>NaN</td>\n",
       "    </tr>\n",
       "    <tr>\n",
       "      <th>996</th>\n",
       "      <td>#error</td>\n",
       "      <td>NaT</td>\n",
       "      <td>10054.0</td>\n",
       "      <td>29265.0</td>\n",
       "    </tr>\n",
       "    <tr>\n",
       "      <th>997</th>\n",
       "      <td>#error</td>\n",
       "      <td>NaT</td>\n",
       "      <td>10454.0</td>\n",
       "      <td>NaN</td>\n",
       "    </tr>\n",
       "    <tr>\n",
       "      <th>998</th>\n",
       "      <td>#error</td>\n",
       "      <td>NaT</td>\n",
       "      <td>1000.0</td>\n",
       "      <td>NaN</td>\n",
       "    </tr>\n",
       "    <tr>\n",
       "      <th>999</th>\n",
       "      <td>#error</td>\n",
       "      <td>NaT</td>\n",
       "      <td>10754.0</td>\n",
       "      <td>NaN</td>\n",
       "    </tr>\n",
       "  </tbody>\n",
       "</table>\n",
       "<p>1000 rows × 4 columns</p>\n",
       "</div>"
      ],
      "text/plain": [
       "                              user_id                time        bet  \\\n",
       "0    Запись пользователя № - user_919 2019-01-01 14:06:51        0.0   \n",
       "1    Запись пользователя № - user_973 2019-01-01 14:51:16        0.0   \n",
       "2    Запись пользователя № - user_903 2019-01-01 16:31:16        0.0   \n",
       "3    Запись пользователя № - user_954 2019-01-01 17:17:51        0.0   \n",
       "4    Запись пользователя № - user_954 2019-01-01 21:31:18        0.0   \n",
       "5    Запись пользователя № - user_917 2019-01-01 23:34:55   156789.0   \n",
       "6    Запись пользователя № - user_900 2019-01-01 04:37:25        0.0   \n",
       "7    Запись пользователя № - user_980 2019-01-01 06:31:23        0.0   \n",
       "8    Запись пользователя № - user_906 2019-01-02 10:57:08        0.0   \n",
       "9    Запись пользователя № - user_952 2019-01-02 16:55:06        0.0   \n",
       "10   Запись пользователя № - user_972 2019-01-02 20:47:54        0.0   \n",
       "11   Запись пользователя № - user_966 2019-01-02 21:32:20        0.0   \n",
       "12   Запись пользователя № - user_964 2019-01-02 21:32:35        0.0   \n",
       "13   Запись пользователя № - user_978 2019-01-02 05:25:40        0.0   \n",
       "14   Запись пользователя № - user_917 2019-01-02 08:57:36   145732.0   \n",
       "15   Запись пользователя № - user_968 2019-01-02 09:32:24        0.0   \n",
       "16   Запись пользователя № - user_974 2019-01-03 10:43:41        0.0   \n",
       "17   Запись пользователя № - user_998 2019-01-03 11:29:08        0.0   \n",
       "18   Запись пользователя № - user_990 2019-01-03 13:12:46        0.0   \n",
       "19   Запись пользователя № - user_942 2019-01-03 14:03:21    98753.0   \n",
       "20   Запись пользователя № - user_929 2019-01-03 17:20:23        0.0   \n",
       "21   Запись пользователя № - user_976 2019-01-03 18:24:25        0.0   \n",
       "22   Запись пользователя № - user_927 2019-01-03 18:45:54        0.0   \n",
       "23   Запись пользователя № - user_998 2019-01-03 02:48:25        0.0   \n",
       "24   Запись пользователя № - user_951 2019-01-03 05:30:43        0.0   \n",
       "25   Запись пользователя № - user_949 2019-01-03 05:49:42        0.0   \n",
       "26   Запись пользователя № - user_976 2019-01-04 01:59:34        0.0   \n",
       "27   Запись пользователя № - user_987 2019-01-04 11:50:21        0.0   \n",
       "28   Запись пользователя № - user_976 2019-01-04 12:49:31        0.0   \n",
       "29   Запись пользователя № - user_942 2019-01-04 13:59:42  1678321.0   \n",
       "..                                ...                 ...        ...   \n",
       "970  Запись пользователя № - user_991 2019-04-20 01:18:20      700.0   \n",
       "971  Запись пользователя № - user_912 2019-04-20 10:35:49    10554.0   \n",
       "972  Запись пользователя № - user_926 2019-04-20 10:35:50    10354.0   \n",
       "973  Запись пользователя № - user_904 2019-04-20 10:35:51      600.0   \n",
       "974  Запись пользователя № - user_987 2019-04-20 10:35:52     9754.0   \n",
       "975  Запись пользователя № - user_913 2019-04-20 10:35:53    10754.0   \n",
       "976  Запись пользователя № - user_970 2019-04-20 10:35:54    10354.0   \n",
       "977                            #error                 NaT        0.0   \n",
       "978                            #error                 NaT    10554.0   \n",
       "979                            #error                 NaT        0.0   \n",
       "980                            #error                 NaT    10454.0   \n",
       "981                            #error                 NaT      800.0   \n",
       "982                            #error                 NaT      900.0   \n",
       "983                            #error                 NaT      500.0   \n",
       "984  Запись пользователя № - user_925 2019-04-20 12:55:00     1000.0   \n",
       "985                            #error                 NaT      900.0   \n",
       "986                            #error                 NaT    10454.0   \n",
       "987                            #error                 NaT    10554.0   \n",
       "988                            #error                 NaT     1000.0   \n",
       "989  Запись пользователя № - user_953 2019-04-20 12:55:39     9954.0   \n",
       "990  Запись пользователя № - user_954 2019-04-20 12:55:40     9854.0   \n",
       "991  Запись пользователя № - user_965 2019-04-20 12:55:41      800.0   \n",
       "992  Запись пользователя № - user_967 2019-04-20 14:59:36    10154.0   \n",
       "993  Запись пользователя № - user_973 2019-04-20 17:09:56    10254.0   \n",
       "994  Запись пользователя № - user_977 2019-04-20 18:10:07    10354.0   \n",
       "995  Запись пользователя № - user_984 2019-04-20 09:59:58     9754.0   \n",
       "996                            #error                 NaT    10054.0   \n",
       "997                            #error                 NaT    10454.0   \n",
       "998                            #error                 NaT     1000.0   \n",
       "999                            #error                 NaT    10754.0   \n",
       "\n",
       "           win  \n",
       "0          NaN  \n",
       "1          NaN  \n",
       "2          NaN  \n",
       "3          NaN  \n",
       "4          NaN  \n",
       "5          NaN  \n",
       "6          NaN  \n",
       "7          NaN  \n",
       "8          NaN  \n",
       "9          NaN  \n",
       "10         NaN  \n",
       "11         NaN  \n",
       "12         NaN  \n",
       "13         NaN  \n",
       "14   1987653.0  \n",
       "15         NaN  \n",
       "16         NaN  \n",
       "17         NaN  \n",
       "18         NaN  \n",
       "19         NaN  \n",
       "20         NaN  \n",
       "21         NaN  \n",
       "22         NaN  \n",
       "23         NaN  \n",
       "24         NaN  \n",
       "25         NaN  \n",
       "26         NaN  \n",
       "27         NaN  \n",
       "28         NaN  \n",
       "29   9876543.0  \n",
       "..         ...  \n",
       "970        NaN  \n",
       "971    31799.0  \n",
       "972    30244.0  \n",
       "973        NaN  \n",
       "974        NaN  \n",
       "975        NaN  \n",
       "976    30691.0  \n",
       "977        NaN  \n",
       "978        NaN  \n",
       "979        NaN  \n",
       "980    30117.0  \n",
       "981     7035.0  \n",
       "982        NaN  \n",
       "983        NaN  \n",
       "984        NaN  \n",
       "985        NaN  \n",
       "986    29972.0  \n",
       "987    31634.0  \n",
       "988        NaN  \n",
       "989        NaN  \n",
       "990        NaN  \n",
       "991     6927.0  \n",
       "992        NaN  \n",
       "993        NaN  \n",
       "994        NaN  \n",
       "995        NaN  \n",
       "996    29265.0  \n",
       "997        NaN  \n",
       "998        NaN  \n",
       "999        NaN  \n",
       "\n",
       "[1000 rows x 4 columns]"
      ]
     },
     "execution_count": 13,
     "metadata": {},
     "output_type": "execute_result"
    }
   ],
   "source": [
    "log"
   ]
  },
  {
   "cell_type": "code",
   "execution_count": 29,
   "metadata": {},
   "outputs": [],
   "source": [
    "def fillna_win(row):\n",
    "    \n",
    "    if str(row) != 'nan':\n",
    "        return row\n",
    "    elif str(row) == 'nan':\n",
    "        if log['bet'] == 0:\n",
    "            return 0\n",
    "        else:\n",
    "            return log['bet']\n",
    "    \n",
    "# Применяем функцию\n",
    "new_win = log.apply(lambda row: fillna_win(row), axis=1)  \n",
    "      \n",
    "# Заменяем старый столбец с пропусками на новый без пропусков  \n",
    "log['win'] = new_win  \n"
   ]
  },
  {
   "cell_type": "code",
   "execution_count": 21,
   "metadata": {
    "scrolled": true
   },
   "outputs": [],
   "source": [
    "import pandas as pd\n",
    "log=pd.read_csv('log.csv',header=None)\n",
    "log.columns=['user_id', 'time', 'bet', 'win']\n",
    "log['time']=log['time'].str.replace('[', '')\n",
    "log['bet']=log['bet'].fillna(0)\n",
    "log['win']=log['win'].fillna(0)\n",
    "def fillna_win(row):\n",
    "    if pd.isnull(row.win):\n",
    "        if row.bet == 0:\n",
    "            row.win = 0\n",
    "        else:\n",
    "            row.win = -row.bet\n",
    "    return row.win\n",
    "new_win=log.apply(lambda row: fillna_win(row), axis=1)\n",
    "\n",
    "log['win'] = new_win "
   ]
  },
  {
   "cell_type": "code",
   "execution_count": 42,
   "metadata": {},
   "outputs": [
    {
     "data": {
      "text/plain": [
       "347"
      ]
     },
     "execution_count": 42,
     "metadata": {},
     "output_type": "execute_result"
    }
   ],
   "source": [
    "import pandas as pd\n",
    "log=pd.read_csv('log.csv',header=None)\n",
    "log.columns=['user_id', 'time', 'bet', 'win']\n",
    "log['time']=log['time'].str.replace('[', '')\n",
    "log['bet']=log['bet'].fillna(0)\n",
    "log['win']=log['win'].fillna(0)\n",
    "\n",
    "def fillna_win(row):\n",
    "    if row.win <= 0:\n",
    "        if row.bet == 0:\n",
    "            row.win = 0\n",
    "        else:\n",
    "            row.win = -row.bet\n",
    "    return row.win\n",
    "\n",
    "new_win=log.apply(lambda row: fillna_win(row), axis=1)\n",
    "\n",
    "log['win'] = new_win\n",
    "\n",
    "(log.win<0).sum()"
   ]
  },
  {
   "cell_type": "code",
   "execution_count": 43,
   "metadata": {},
   "outputs": [],
   "source": [
    "log['net'] = log['win'] - log['bet']\n"
   ]
  },
  {
   "cell_type": "code",
   "execution_count": 44,
   "metadata": {},
   "outputs": [
    {
     "data": {
      "text/plain": [
       "138"
      ]
     },
     "execution_count": 44,
     "metadata": {},
     "output_type": "execute_result"
    }
   ],
   "source": [
    "(log.net > 0).sum()"
   ]
  },
  {
   "cell_type": "code",
   "execution_count": 60,
   "metadata": {},
   "outputs": [
    {
     "data": {
      "text/plain": [
       "80253"
      ]
     },
     "execution_count": 60,
     "metadata": {},
     "output_type": "execute_result"
    }
   ],
   "source": [
    "round(log[log['net'] > 0]['net'].mean())"
   ]
  },
  {
   "cell_type": "code",
   "execution_count": 61,
   "metadata": {},
   "outputs": [
    {
     "data": {
      "text/plain": [
       "5347"
      ]
     },
     "execution_count": 61,
     "metadata": {},
     "output_type": "execute_result"
    }
   ],
   "source": [
    "round(log[log['net'] > 0]['net'].median())"
   ]
  },
  {
   "cell_type": "code",
   "execution_count": 62,
   "metadata": {},
   "outputs": [
    {
     "data": {
      "text/plain": [
       "3291.083"
      ]
     },
     "execution_count": 62,
     "metadata": {},
     "output_type": "execute_result"
    }
   ],
   "source": [
    "log.bet.mean()"
   ]
  },
  {
   "cell_type": "code",
   "execution_count": 63,
   "metadata": {},
   "outputs": [
    {
     "data": {
      "text/plain": [
       "3291.083"
      ]
     },
     "execution_count": 63,
     "metadata": {},
     "output_type": "execute_result"
    }
   ],
   "source": [
    "log.bet.mean(skipna=False)"
   ]
  },
  {
   "cell_type": "code",
   "execution_count": 64,
   "metadata": {},
   "outputs": [
    {
     "ename": "AttributeError",
     "evalue": "module 'pandas' has no attribute 'mean'",
     "output_type": "error",
     "traceback": [
      "\u001b[1;31m---------------------------------------------------------------------------\u001b[0m",
      "\u001b[1;31mAttributeError\u001b[0m                            Traceback (most recent call last)",
      "\u001b[1;32m<ipython-input-64-e807f6870475>\u001b[0m in \u001b[0;36m<module>\u001b[1;34m\u001b[0m\n\u001b[1;32m----> 1\u001b[1;33m \u001b[0mpd\u001b[0m\u001b[1;33m.\u001b[0m\u001b[0mmean\u001b[0m\u001b[1;33m(\u001b[0m\u001b[0mlog\u001b[0m\u001b[1;33m[\u001b[0m\u001b[1;34m'bet'\u001b[0m\u001b[1;33m]\u001b[0m\u001b[1;33m)\u001b[0m\u001b[1;33m\u001b[0m\u001b[1;33m\u001b[0m\u001b[0m\n\u001b[0m",
      "\u001b[1;31mAttributeError\u001b[0m: module 'pandas' has no attribute 'mean'"
     ]
    }
   ],
   "source": [
    "pd.mean(log['bet'])"
   ]
  },
  {
   "cell_type": "code",
   "execution_count": 65,
   "metadata": {},
   "outputs": [
    {
     "data": {
      "text/plain": [
       "3291.083"
      ]
     },
     "execution_count": 65,
     "metadata": {},
     "output_type": "execute_result"
    }
   ],
   "source": [
    "log.bet.sum() / log.bet.dropna().shape[0] "
   ]
  },
  {
   "cell_type": "code",
   "execution_count": 66,
   "metadata": {},
   "outputs": [
    {
     "ename": "NameError",
     "evalue": "name 'np' is not defined",
     "output_type": "error",
     "traceback": [
      "\u001b[1;31m---------------------------------------------------------------------------\u001b[0m",
      "\u001b[1;31mNameError\u001b[0m                                 Traceback (most recent call last)",
      "\u001b[1;32m<ipython-input-66-706beff787ec>\u001b[0m in \u001b[0;36m<module>\u001b[1;34m\u001b[0m\n\u001b[1;32m----> 1\u001b[1;33m \u001b[0mnp\u001b[0m\u001b[1;33m.\u001b[0m\u001b[0mmean\u001b[0m\u001b[1;33m(\u001b[0m\u001b[0mlog\u001b[0m\u001b[1;33m.\u001b[0m\u001b[0mbet\u001b[0m\u001b[1;33m)\u001b[0m\u001b[1;33m\u001b[0m\u001b[1;33m\u001b[0m\u001b[0m\n\u001b[0m",
      "\u001b[1;31mNameError\u001b[0m: name 'np' is not defined"
     ]
    }
   ],
   "source": [
    "np.mean(log.bet)"
   ]
  },
  {
   "cell_type": "code",
   "execution_count": 67,
   "metadata": {},
   "outputs": [
    {
     "data": {
      "text/plain": [
       "3291.083"
      ]
     },
     "execution_count": 67,
     "metadata": {},
     "output_type": "execute_result"
    }
   ],
   "source": [
    "log['bet'].dropna().mean()"
   ]
  },
  {
   "cell_type": "code",
   "execution_count": 87,
   "metadata": {},
   "outputs": [
    {
     "data": {
      "text/plain": [
       "48.5"
      ]
     },
     "execution_count": 87,
     "metadata": {},
     "output_type": "execute_result"
    }
   ],
   "source": [
    "log[log.bet > 0]['bet'].count()/ log.bet.count() * 100"
   ]
  },
  {
   "cell_type": "code",
   "execution_count": 73,
   "metadata": {},
   "outputs": [
    {
     "data": {
      "text/plain": [
       "485"
      ]
     },
     "execution_count": 73,
     "metadata": {},
     "output_type": "execute_result"
    }
   ],
   "source": [
    "log[(log.bet > 0)]['bet'].count()"
   ]
  },
  {
   "cell_type": "code",
   "execution_count": 78,
   "metadata": {},
   "outputs": [
    {
     "data": {
      "text/plain": [
       "6786"
      ]
     },
     "execution_count": 78,
     "metadata": {},
     "output_type": "execute_result"
    }
   ],
   "source": [
    "round(log[(log.bet > 0)]['bet'].mean())"
   ]
  },
  {
   "cell_type": "code",
   "execution_count": 92,
   "metadata": {},
   "outputs": [
    {
     "data": {
      "text/plain": [
       "18008.81649484536"
      ]
     },
     "execution_count": 92,
     "metadata": {},
     "output_type": "execute_result"
    }
   ],
   "source": [
    "log[log.bet > 0].net.mean()"
   ]
  },
  {
   "cell_type": "code",
   "execution_count": null,
   "metadata": {},
   "outputs": [],
   "source": []
  },
  {
   "cell_type": "code",
   "execution_count": 93,
   "metadata": {},
   "outputs": [
    {
     "data": {
      "text/plain": [
       "20421.892783505155"
      ]
     },
     "execution_count": 93,
     "metadata": {},
     "output_type": "execute_result"
    }
   ],
   "source": [
    "import pandas as pd\n",
    "log=pd.read_csv('log.csv',header=None)\n",
    "log.columns=['user_id', 'time', 'bet', 'win']\n",
    "log['time']=log['time'].str.replace('[', '')\n",
    "log['bet']=log['bet'].fillna(0)\n",
    "log['win']=log['win'].fillna(0)\n",
    "\n",
    "log['net'] = log.win-log.bet\n",
    "log[log.bet > 0].net.mean()\n"
   ]
  },
  {
   "cell_type": "code",
   "execution_count": 94,
   "metadata": {},
   "outputs": [
    {
     "data": {
      "text/plain": [
       "-3372.743515850144"
      ]
     },
     "execution_count": 94,
     "metadata": {},
     "output_type": "execute_result"
    }
   ],
   "source": [
    "log[log.net < 0].net.mean()"
   ]
  },
  {
   "cell_type": "code",
   "execution_count": 95,
   "metadata": {},
   "outputs": [
    {
     "data": {
      "text/plain": [
       "34.699999999999996"
      ]
     },
     "execution_count": 95,
     "metadata": {},
     "output_type": "execute_result"
    }
   ],
   "source": [
    "log[log.net < 0].net.count() / log.bet.count() * 100"
   ]
  },
  {
   "cell_type": "code",
   "execution_count": 96,
   "metadata": {},
   "outputs": [
    {
     "data": {
      "text/plain": [
       "13.8"
      ]
     },
     "execution_count": 96,
     "metadata": {},
     "output_type": "execute_result"
    }
   ],
   "source": [
    "log[log.net > 0].net.count() / log.bet.count() * 100"
   ]
  },
  {
   "cell_type": "code",
   "execution_count": 102,
   "metadata": {},
   "outputs": [
    {
     "data": {
      "text/plain": [
       "100.0"
      ]
     },
     "execution_count": 102,
     "metadata": {},
     "output_type": "execute_result"
    }
   ],
   "source": [
    "import pandas as pd\n",
    "log=pd.read_csv('log.csv',header=None)\n",
    "log.columns=['user_id', 'time', 'bet', 'win']\n",
    "log['time']=log['time'].str.replace('[', '')\n",
    "log['bet']=log['bet'].fillna(0)\n",
    "log['win']=log['win'].fillna(0)\n",
    "\n",
    "log['net'] = log.win-log.bet\n",
    "min_bet = log[log.bet > 0]['bet'].min()\n",
    "min_bet_amount = log[log.bet == min_bet]['bet'].count()\n"
   ]
  },
  {
   "cell_type": "code",
   "execution_count": 142,
   "metadata": {},
   "outputs": [
    {
     "data": {
      "text/plain": [
       "48"
      ]
     },
     "execution_count": 142,
     "metadata": {},
     "output_type": "execute_result"
    }
   ],
   "source": [
    "min_bet = log[log.bet > 0]['bet'].min()\n",
    "min_bet_amount = log[log.bet == min_bet]['bet'].count()"
   ]
  },
  {
   "cell_type": "code",
   "execution_count": 143,
   "metadata": {},
   "outputs": [
    {
     "data": {
      "text/plain": [
       "48"
      ]
     },
     "execution_count": 143,
     "metadata": {},
     "output_type": "execute_result"
    }
   ],
   "source": [
    "min_bet = log[log.bet > 0]['bet'].min()\n",
    "log[(log.bet == log[log.bet > 0]['bet'].min())]['bet'].count()"
   ]
  },
  {
   "cell_type": "code",
   "execution_count": null,
   "metadata": {},
   "outputs": [],
   "source": [
    "import pandas as pd\n",
    "# Приведем признак user_id к одному формату в обоих датасетах\n",
    "us = pd.read_csv('users.csv', encoding='koi8_r', skip_blank_lines=True, sep='\\t')\n",
    "us.columns = ['user_id', 'email', 'geo']\n",
    "us.user_id = us.user_id.apply(lambda x: x.lower())\n",
    "log = pd.read_csv('log.csv', header=None)\n",
    "log.columns= ['user_id', 'time', 'bet','win']\n",
    "# Избавимся от ошибок в user_id\n",
    "log = log[log.user_id != '#error']\n",
    "log.user_id = log.user_id.str.split(' - ').apply(lambda x: x[1])\n",
    "joined = pd.merge(log, us, on='user_id')\n",
    "joined.info() (edited) "
   ]
  },
  {
   "cell_type": "code",
   "execution_count": 144,
   "metadata": {},
   "outputs": [
    {
     "name": "stdout",
     "output_type": "stream",
     "text": [
      "<class 'pandas.core.frame.DataFrame'>\n",
      "Int64Index: 975 entries, 0 to 974\n",
      "Data columns (total 6 columns):\n",
      "user_id    975 non-null object\n",
      "time       975 non-null object\n",
      "bet        470 non-null float64\n",
      "win        132 non-null float64\n",
      "email      967 non-null object\n",
      "geo        950 non-null object\n",
      "dtypes: float64(2), object(4)\n",
      "memory usage: 53.3+ KB\n"
     ]
    }
   ],
   "source": [
    "import pandas as pd\n",
    "# Приведем признак user_id к одному формату в обоих датасетах  \n",
    "us = pd.read_csv('users.csv', encoding='koi8_r', skip_blank_lines=True, sep='\\t')\n",
    "us.columns = ['user_id', 'email', 'geo']\n",
    "us.user_id = us.user_id.apply(lambda x: x.lower())\n",
    "log = pd.read_csv('log.csv', header=None)\n",
    "log.columns= ['user_id', 'time', 'bet','win']\n",
    "\n",
    "# Избавимся от ошибок в user_id  \n",
    "log = log[log.user_id != '#error']  \n",
    "log.user_id = log.user_id.str.split(' - ').apply(lambda x: x[1])  \n",
    "joined = pd.merge(log, us, on='user_id')\n",
    "joined.info() "
   ]
  },
  {
   "cell_type": "code",
   "execution_count": 146,
   "metadata": {},
   "outputs": [
    {
     "data": {
      "text/plain": [
       "5951.75"
      ]
     },
     "execution_count": 146,
     "metadata": {},
     "output_type": "execute_result"
    }
   ],
   "source": [
    "joined.groupby('user_id').win.median().median()"
   ]
  },
  {
   "cell_type": "code",
   "execution_count": 318,
   "metadata": {},
   "outputs": [],
   "source": [
    "import pandas as pd\n",
    "# Приведем признак user_id к одному формату в обоих датасетах  \n",
    "us = pd.read_csv('users.csv', encoding='koi8_r', skip_blank_lines=True, sep='\\t')\n",
    "us.columns = ['user_id', 'email', 'geo']\n",
    "us.user_id = us.user_id.apply(lambda x: x.lower())\n",
    "log = pd.read_csv('log.csv', header=None)\n",
    "log.columns= ['user_id', 'time', 'bet','win']\n",
    "\n",
    "# Избавимся от ошибок в user_id  \n",
    "log = log[log.user_id != '#error']  \n",
    "log.user_id = log.user_id.str.split(' - ').apply(lambda x: x[1])  \n",
    "joined = pd.merge(us, log, on='user_id')\n",
    "\n",
    "# Почистим данне и введем новый признак\n",
    "joined['time']=joined['time'].str.replace('[', '')\n",
    "joined['bet']=joined['bet'].fillna(0)\n",
    "joined['win']=joined['win'].fillna(0)\n"
   ]
  },
  {
   "cell_type": "code",
   "execution_count": 319,
   "metadata": {},
   "outputs": [
    {
     "data": {
      "text/html": [
       "<div>\n",
       "<style scoped>\n",
       "    .dataframe tbody tr th:only-of-type {\n",
       "        vertical-align: middle;\n",
       "    }\n",
       "\n",
       "    .dataframe tbody tr th {\n",
       "        vertical-align: top;\n",
       "    }\n",
       "\n",
       "    .dataframe thead th {\n",
       "        text-align: right;\n",
       "    }\n",
       "</style>\n",
       "<table border=\"1\" class=\"dataframe\">\n",
       "  <thead>\n",
       "    <tr style=\"text-align: right;\">\n",
       "      <th></th>\n",
       "      <th>user_id</th>\n",
       "      <th>email</th>\n",
       "      <th>geo</th>\n",
       "      <th>time</th>\n",
       "      <th>bet</th>\n",
       "      <th>win</th>\n",
       "    </tr>\n",
       "  </thead>\n",
       "  <tbody>\n",
       "    <tr>\n",
       "      <th>0</th>\n",
       "      <td>user_943</td>\n",
       "      <td>Accumanst@gmail.com</td>\n",
       "      <td>Ижевск</td>\n",
       "      <td>2019-01-06 21:06:57</td>\n",
       "      <td>0.0</td>\n",
       "      <td>0.0</td>\n",
       "    </tr>\n",
       "    <tr>\n",
       "      <th>1</th>\n",
       "      <td>user_943</td>\n",
       "      <td>Accumanst@gmail.com</td>\n",
       "      <td>Ижевск</td>\n",
       "      <td>2019-01-10 12:16:22</td>\n",
       "      <td>100.0</td>\n",
       "      <td>0.0</td>\n",
       "    </tr>\n",
       "    <tr>\n",
       "      <th>2</th>\n",
       "      <td>user_943</td>\n",
       "      <td>Accumanst@gmail.com</td>\n",
       "      <td>Ижевск</td>\n",
       "      <td>2019-01-27 1:18:47</td>\n",
       "      <td>100.0</td>\n",
       "      <td>0.0</td>\n",
       "    </tr>\n",
       "    <tr>\n",
       "      <th>3</th>\n",
       "      <td>user_943</td>\n",
       "      <td>Accumanst@gmail.com</td>\n",
       "      <td>Ижевск</td>\n",
       "      <td>2019-02-10 11:09:24</td>\n",
       "      <td>100.0</td>\n",
       "      <td>5456.0</td>\n",
       "    </tr>\n",
       "    <tr>\n",
       "      <th>4</th>\n",
       "      <td>user_943</td>\n",
       "      <td>Accumanst@gmail.com</td>\n",
       "      <td>Ижевск</td>\n",
       "      <td>2019-02-12 15:09:38</td>\n",
       "      <td>300.0</td>\n",
       "      <td>5245.0</td>\n",
       "    </tr>\n",
       "  </tbody>\n",
       "</table>\n",
       "</div>"
      ],
      "text/plain": [
       "    user_id                email     geo                 time    bet     win\n",
       "0  user_943  Accumanst@gmail.com  Ижевск  2019-01-06 21:06:57    0.0     0.0\n",
       "1  user_943  Accumanst@gmail.com  Ижевск  2019-01-10 12:16:22  100.0     0.0\n",
       "2  user_943  Accumanst@gmail.com  Ижевск   2019-01-27 1:18:47  100.0     0.0\n",
       "3  user_943  Accumanst@gmail.com  Ижевск  2019-02-10 11:09:24  100.0  5456.0\n",
       "4  user_943  Accumanst@gmail.com  Ижевск  2019-02-12 15:09:38  300.0  5245.0"
      ]
     },
     "execution_count": 319,
     "metadata": {},
     "output_type": "execute_result"
    }
   ],
   "source": [
    "joined.head()"
   ]
  },
  {
   "cell_type": "code",
   "execution_count": null,
   "metadata": {},
   "outputs": [],
   "source": []
  },
  {
   "cell_type": "code",
   "execution_count": 161,
   "metadata": {},
   "outputs": [
    {
     "data": {
      "text/plain": [
       "1986.0"
      ]
     },
     "execution_count": 161,
     "metadata": {},
     "output_type": "execute_result"
    }
   ],
   "source": [
    "joined.groupby('user_id').net.sum().median()"
   ]
  },
  {
   "cell_type": "code",
   "execution_count": 215,
   "metadata": {},
   "outputs": [
    {
     "data": {
      "text/html": [
       "<div>\n",
       "<style scoped>\n",
       "    .dataframe tbody tr th:only-of-type {\n",
       "        vertical-align: middle;\n",
       "    }\n",
       "\n",
       "    .dataframe tbody tr th {\n",
       "        vertical-align: top;\n",
       "    }\n",
       "\n",
       "    .dataframe thead th {\n",
       "        text-align: right;\n",
       "    }\n",
       "</style>\n",
       "<table border=\"1\" class=\"dataframe\">\n",
       "  <thead>\n",
       "    <tr style=\"text-align: right;\">\n",
       "      <th></th>\n",
       "      <th>bet</th>\n",
       "      <th>user_id</th>\n",
       "      <th>col_bet</th>\n",
       "    </tr>\n",
       "  </thead>\n",
       "  <tbody>\n",
       "    <tr>\n",
       "      <th>0</th>\n",
       "      <td>0.0</td>\n",
       "      <td>user_1000</td>\n",
       "      <td>8</td>\n",
       "    </tr>\n",
       "    <tr>\n",
       "      <th>1</th>\n",
       "      <td>100.0</td>\n",
       "      <td>user_1000</td>\n",
       "      <td>1</td>\n",
       "    </tr>\n",
       "    <tr>\n",
       "      <th>2</th>\n",
       "      <td>300.0</td>\n",
       "      <td>user_1000</td>\n",
       "      <td>1</td>\n",
       "    </tr>\n",
       "    <tr>\n",
       "      <th>3</th>\n",
       "      <td>400.0</td>\n",
       "      <td>user_1000</td>\n",
       "      <td>1</td>\n",
       "    </tr>\n",
       "    <tr>\n",
       "      <th>4</th>\n",
       "      <td>800.0</td>\n",
       "      <td>user_1000</td>\n",
       "      <td>1</td>\n",
       "    </tr>\n",
       "  </tbody>\n",
       "</table>\n",
       "</div>"
      ],
      "text/plain": [
       "     bet    user_id  col_bet\n",
       "0    0.0  user_1000        8\n",
       "1  100.0  user_1000        1\n",
       "2  300.0  user_1000        1\n",
       "3  400.0  user_1000        1\n",
       "4  800.0  user_1000        1"
      ]
     },
     "execution_count": 215,
     "metadata": {},
     "output_type": "execute_result"
    }
   ],
   "source": [
    "ls = joined.groupby(['user_id', 'bet']).bet.count()\n",
    "ls1 = ls.reset_index(level = 'user_id')\n",
    "ls1.columns = ['user_id', 'col_bet']\n",
    "ls2 = ls1.reset_index()\n",
    "ls2.head()"
   ]
  },
  {
   "cell_type": "code",
   "execution_count": 217,
   "metadata": {},
   "outputs": [
    {
     "data": {
      "text/plain": [
       "5.05"
      ]
     },
     "execution_count": 217,
     "metadata": {},
     "output_type": "execute_result"
    }
   ],
   "source": [
    "ls2[ls2.bet == 0].col_bet.mean()\n"
   ]
  },
  {
   "cell_type": "code",
   "execution_count": 2,
   "metadata": {},
   "outputs": [],
   "source": [
    "import pandas as pd\n",
    "# Приведем признак user_id к одному формату в обоих датасетах  \n",
    "us = pd.read_csv('users.csv', encoding='koi8_r', skip_blank_lines=True, sep='\\t')\n",
    "us.columns = ['user_id', 'email', 'geo']\n",
    "us.user_id = us.user_id.apply(lambda x: x.lower())\n",
    "log = pd.read_csv('log.csv', header=None)\n",
    "log.columns= ['user_id', 'time', 'bet','win']\n",
    "\n",
    "# Избавимся от ошибок в user_id  \n",
    "log = log[log.user_id != '#error']  \n",
    "log.user_id = log.user_id.str.split(' - ').apply(lambda x: x[1])  \n",
    "joined = pd.merge(us, log, on='user_id')\n",
    "\n",
    "# Почистим данне и введем новый признак\n",
    "joined['time']=joined['time'].str.replace('[', '')\n",
    "joined['bet']=joined['bet'].fillna(0)\n",
    "joined['win']=joined['win'].fillna(0)\n",
    "joined['time'] = pd.to_datetime(joined['time'])"
   ]
  },
  {
   "cell_type": "code",
   "execution_count": 3,
   "metadata": {},
   "outputs": [
    {
     "data": {
      "text/html": [
       "<div>\n",
       "<style scoped>\n",
       "    .dataframe tbody tr th:only-of-type {\n",
       "        vertical-align: middle;\n",
       "    }\n",
       "\n",
       "    .dataframe tbody tr th {\n",
       "        vertical-align: top;\n",
       "    }\n",
       "\n",
       "    .dataframe thead th {\n",
       "        text-align: right;\n",
       "    }\n",
       "</style>\n",
       "<table border=\"1\" class=\"dataframe\">\n",
       "  <thead>\n",
       "    <tr style=\"text-align: right;\">\n",
       "      <th></th>\n",
       "      <th>user_id</th>\n",
       "      <th>email</th>\n",
       "      <th>geo</th>\n",
       "      <th>time</th>\n",
       "      <th>bet</th>\n",
       "      <th>win</th>\n",
       "    </tr>\n",
       "  </thead>\n",
       "  <tbody>\n",
       "    <tr>\n",
       "      <th>0</th>\n",
       "      <td>user_943</td>\n",
       "      <td>Accumanst@gmail.com</td>\n",
       "      <td>Ижевск</td>\n",
       "      <td>2019-01-06 21:06:57</td>\n",
       "      <td>0.0</td>\n",
       "      <td>0.0</td>\n",
       "    </tr>\n",
       "    <tr>\n",
       "      <th>1</th>\n",
       "      <td>user_943</td>\n",
       "      <td>Accumanst@gmail.com</td>\n",
       "      <td>Ижевск</td>\n",
       "      <td>2019-01-10 12:16:22</td>\n",
       "      <td>100.0</td>\n",
       "      <td>0.0</td>\n",
       "    </tr>\n",
       "    <tr>\n",
       "      <th>2</th>\n",
       "      <td>user_943</td>\n",
       "      <td>Accumanst@gmail.com</td>\n",
       "      <td>Ижевск</td>\n",
       "      <td>2019-01-27 01:18:47</td>\n",
       "      <td>100.0</td>\n",
       "      <td>0.0</td>\n",
       "    </tr>\n",
       "    <tr>\n",
       "      <th>3</th>\n",
       "      <td>user_943</td>\n",
       "      <td>Accumanst@gmail.com</td>\n",
       "      <td>Ижевск</td>\n",
       "      <td>2019-02-10 11:09:24</td>\n",
       "      <td>100.0</td>\n",
       "      <td>5456.0</td>\n",
       "    </tr>\n",
       "    <tr>\n",
       "      <th>4</th>\n",
       "      <td>user_943</td>\n",
       "      <td>Accumanst@gmail.com</td>\n",
       "      <td>Ижевск</td>\n",
       "      <td>2019-02-12 15:09:38</td>\n",
       "      <td>300.0</td>\n",
       "      <td>5245.0</td>\n",
       "    </tr>\n",
       "  </tbody>\n",
       "</table>\n",
       "</div>"
      ],
      "text/plain": [
       "    user_id                email     geo                time    bet     win\n",
       "0  user_943  Accumanst@gmail.com  Ижевск 2019-01-06 21:06:57    0.0     0.0\n",
       "1  user_943  Accumanst@gmail.com  Ижевск 2019-01-10 12:16:22  100.0     0.0\n",
       "2  user_943  Accumanst@gmail.com  Ижевск 2019-01-27 01:18:47  100.0     0.0\n",
       "3  user_943  Accumanst@gmail.com  Ижевск 2019-02-10 11:09:24  100.0  5456.0\n",
       "4  user_943  Accumanst@gmail.com  Ижевск 2019-02-12 15:09:38  300.0  5245.0"
      ]
     },
     "execution_count": 3,
     "metadata": {},
     "output_type": "execute_result"
    }
   ],
   "source": [
    "joined.head()"
   ]
  },
  {
   "cell_type": "code",
   "execution_count": 4,
   "metadata": {},
   "outputs": [],
   "source": [
    "joined['tm1'] =  joined[joined['bet'] == 0].time\n",
    "joined['tm2'] =  joined[joined['bet'] > 0].time"
   ]
  },
  {
   "cell_type": "code",
   "execution_count": 5,
   "metadata": {},
   "outputs": [],
   "source": [
    "dtime = joined.groupby('user_id').tm2.min() - joined.groupby('user_id').tm1.min()"
   ]
  },
  {
   "cell_type": "code",
   "execution_count": 7,
   "metadata": {},
   "outputs": [
    {
     "ename": "NameError",
     "evalue": "name 'log_users' is not defined",
     "output_type": "error",
     "traceback": [
      "\u001b[1;31m---------------------------------------------------------------------------\u001b[0m",
      "\u001b[1;31mNameError\u001b[0m                                 Traceback (most recent call last)",
      "\u001b[1;32m<ipython-input-7-8dd04139af10>\u001b[0m in \u001b[0;36m<module>\u001b[1;34m\u001b[0m\n\u001b[1;32m----> 1\u001b[1;33m \u001b[0ms_active_user\u001b[0m\u001b[1;33m=\u001b[0m\u001b[0mlist\u001b[0m\u001b[1;33m(\u001b[0m\u001b[0mlog_users\u001b[0m\u001b[1;33m.\u001b[0m\u001b[0mquery\u001b[0m\u001b[1;33m(\u001b[0m\u001b[1;34m'bet!=0'\u001b[0m\u001b[1;33m)\u001b[0m\u001b[1;33m.\u001b[0m\u001b[0mgroupby\u001b[0m\u001b[1;33m(\u001b[0m\u001b[1;33m[\u001b[0m\u001b[1;34m'user_id'\u001b[0m\u001b[1;33m]\u001b[0m\u001b[1;33m)\u001b[0m\u001b[1;33m.\u001b[0m\u001b[0mbet\u001b[0m\u001b[1;33m.\u001b[0m\u001b[0mcount\u001b[0m\u001b[1;33m(\u001b[0m\u001b[1;33m)\u001b[0m\u001b[1;33m.\u001b[0m\u001b[0mindex\u001b[0m\u001b[1;33m)\u001b[0m\u001b[1;31m#создаем список из пользователей, сделавших хотя бы одну ставку\u001b[0m\u001b[1;33m\u001b[0m\u001b[1;33m\u001b[0m\u001b[0m\n\u001b[0m\u001b[0;32m      2\u001b[0m \u001b[1;33m\u001b[0m\u001b[0m\n\u001b[0;32m      3\u001b[0m \u001b[0mTimedelta\u001b[0m\u001b[1;33m=\u001b[0m\u001b[1;36m0\u001b[0m\u001b[1;33m\u001b[0m\u001b[1;33m\u001b[0m\u001b[0m\n\u001b[0;32m      4\u001b[0m \u001b[1;33m\u001b[0m\u001b[0m\n\u001b[0;32m      5\u001b[0m \u001b[1;32mfor\u001b[0m \u001b[0muser\u001b[0m \u001b[1;32min\u001b[0m \u001b[0ms_active_user\u001b[0m\u001b[1;33m:\u001b[0m\u001b[1;33m\u001b[0m\u001b[1;33m\u001b[0m\u001b[0m\n",
      "\u001b[1;31mNameError\u001b[0m: name 'log_users' is not defined"
     ]
    }
   ],
   "source": [
    "s_active_user=list(log_users.query('bet!=0').groupby(['user_id']).bet.count().index)#создаем список из пользователей, сделавших хотя бы одну ставку\n",
    "\n",
    "Timedelta=0\n",
    "\n",
    "for user in s_active_user:\n",
    "\n",
    "    a=log_users.query('user_id=={}, bet==0'.format(user)).groupby('bet').time.min()\n",
    "\n",
    "    b=log_users.query('user_id=={}, bet!=0'.format(user)).groupby('bet').time.min()\n",
    "\n",
    "    Timedelta+=b-a\n",
    "\n",
    "Timedelta\n",
    "\n"
   ]
  },
  {
   "cell_type": "code",
   "execution_count": 10,
   "metadata": {},
   "outputs": [
    {
     "data": {
      "text/plain": [
       "46.0"
      ]
     },
     "execution_count": 10,
     "metadata": {},
     "output_type": "execute_result"
    }
   ],
   "source": [
    "total = 0\n",
    "#us=joined[joined.bet>0].user_id #создаем список из пользователей, сделавших хотя бы одну ставкуtotal=0 #создаем переменную счетчик\n",
    "us=joined.query('bet!=0').groupby(['user_id']).bet.count().index\n",
    "for j in us:\n",
    "    a=joined[joined['user_id']==j].query('bet==0').time.min() #определяем дату первого посещение пользователем в цикле(с нулевой ставкой).\n",
    "    b=joined[joined['user_id']==j].query('bet>0').time.min() #определяем дату первого посещение пользователем в цикле с НЕнулевой ставкой.\n",
    "    c=(b-a).days #находим интервал в днях между двумя датами\n",
    "    total+=c #увеличиваем счётчик на размер расчётного интервала\n",
    "round(total/len(us),0)"
   ]
  },
  {
   "cell_type": "code",
   "execution_count": null,
   "metadata": {},
   "outputs": [],
   "source": [
    "Для того, чтобы узнать это, напишите метод, \n",
    "считающий минимальное время среди ставок, равных 0 и минимальное время среди ставок больше 0. \n",
    "После этого верните разницу между вторым и первым числом. Пройдитесь по всем группам в цикле. \n",
    "Если в группе нет ставок больше 0, пропустите эту группу. Просуммируйте разницу \n",
    "во времени для каждой группы (с помощью метода, описанного выше) и поделите на количество групп, \n",
    "которые вы не пропустили."
   ]
  },
  {
   "cell_type": "code",
   "execution_count": 385,
   "metadata": {},
   "outputs": [
    {
     "data": {
      "text/plain": [
       "user_id\n",
       "user_1000   2019-01-28 20:57:37\n",
       "user_900    2019-02-08 10:36:47\n",
       "user_901    2019-03-14 13:51:20\n",
       "user_902    2019-03-09 16:52:11\n",
       "user_903    2019-02-08 11:06:00\n",
       "user_904    2019-04-20 10:35:51\n",
       "user_905    2019-01-23 03:40:49\n",
       "user_906    2019-03-03 01:09:37\n",
       "user_907    2019-01-25 02:42:00\n",
       "user_908    2019-01-19 07:21:13\n",
       "user_909    2019-02-28 23:16:35\n",
       "user_910    2019-01-08 21:14:57\n",
       "user_911    2019-03-15 21:48:20\n",
       "user_912    2019-03-05 01:50:21\n",
       "user_913    2019-01-24 09:48:17\n",
       "user_914    2019-03-21 01:24:09\n",
       "user_915    2019-03-29 04:05:01\n",
       "user_916    2019-04-08 18:37:09\n",
       "user_917    2019-01-01 23:34:55\n",
       "user_918    2019-02-13 10:04:39\n",
       "user_919    2019-03-02 04:23:36\n",
       "user_920    2019-04-08 13:41:49\n",
       "user_921    2019-02-09 23:20:21\n",
       "user_922    2019-01-15 16:40:58\n",
       "user_923    2019-03-03 11:59:27\n",
       "user_924    2019-02-13 06:50:18\n",
       "user_925    2019-03-17 08:46:12\n",
       "user_926    2019-03-24 00:57:08\n",
       "user_927    2019-01-31 02:25:43\n",
       "user_928    2019-03-02 17:20:45\n",
       "                    ...        \n",
       "user_970    2019-02-22 08:22:38\n",
       "user_971    2019-02-07 20:53:58\n",
       "user_972    2019-01-20 20:12:03\n",
       "user_973    2019-02-15 20:10:37\n",
       "user_974    2019-02-25 03:04:34\n",
       "user_975    2019-03-03 01:24:56\n",
       "user_976    2019-03-08 01:37:54\n",
       "user_977    2019-03-31 06:36:50\n",
       "user_978    2019-03-28 18:27:32\n",
       "user_979    2019-02-20 15:03:15\n",
       "user_980    2019-03-16 13:23:16\n",
       "user_981    2019-03-16 22:43:57\n",
       "user_982    2019-01-16 21:54:22\n",
       "user_983    2019-03-31 20:15:02\n",
       "user_984    2019-04-05 02:36:59\n",
       "user_985    2019-02-17 10:30:34\n",
       "user_986    2019-03-01 12:09:15\n",
       "user_987    2019-01-07 21:46:13\n",
       "user_988    2019-03-26 21:08:06\n",
       "user_989    2019-04-10 14:41:47\n",
       "user_990    2019-03-22 17:37:24\n",
       "user_991    2019-04-09 05:36:02\n",
       "user_992    2019-03-06 16:04:28\n",
       "user_993    2019-03-17 14:00:23\n",
       "user_994    2019-03-07 01:47:34\n",
       "user_995    2019-02-26 15:29:25\n",
       "user_996    2019-01-10 07:32:17\n",
       "user_997    2019-03-05 11:05:39\n",
       "user_998    2019-01-25 08:57:20\n",
       "user_999    2019-03-15 22:50:47\n",
       "Name: time, Length: 100, dtype: datetime64[ns]"
      ]
     },
     "execution_count": 385,
     "metadata": {},
     "output_type": "execute_result"
    }
   ],
   "source": [
    "joined[joined['bet'] > 0].groupby('user_id').time.min() - "
   ]
  },
  {
   "cell_type": "code",
   "execution_count": 378,
   "metadata": {},
   "outputs": [
    {
     "ename": "ValueError",
     "evalue": "The truth value of a DataFrame is ambiguous. Use a.empty, a.bool(), a.item(), a.any() or a.all().",
     "output_type": "error",
     "traceback": [
      "\u001b[1;31m---------------------------------------------------------------------------\u001b[0m",
      "\u001b[1;31mValueError\u001b[0m                                Traceback (most recent call last)",
      "\u001b[1;32m<ipython-input-378-33f3635f8fc7>\u001b[0m in \u001b[0;36m<module>\u001b[1;34m\u001b[0m\n\u001b[1;32m----> 1\u001b[1;33m \u001b[1;32mif\u001b[0m \u001b[0mjoined\u001b[0m\u001b[1;33m[\u001b[0m\u001b[0mjoined\u001b[0m\u001b[1;33m.\u001b[0m\u001b[0mbet\u001b[0m \u001b[1;33m==\u001b[0m \u001b[1;36m0\u001b[0m\u001b[1;33m]\u001b[0m\u001b[1;33m:\u001b[0m\u001b[1;33m\u001b[0m\u001b[1;33m\u001b[0m\u001b[0m\n\u001b[0m\u001b[0;32m      2\u001b[0m     \u001b[0mjoined\u001b[0m\u001b[1;33m[\u001b[0m\u001b[1;34m'tm1'\u001b[0m\u001b[1;33m]\u001b[0m \u001b[1;33m=\u001b[0m  \u001b[0mjoined\u001b[0m\u001b[1;33m.\u001b[0m\u001b[0mtime\u001b[0m\u001b[1;33m\u001b[0m\u001b[1;33m\u001b[0m\u001b[0m\n\u001b[0;32m      3\u001b[0m \u001b[1;32melif\u001b[0m \u001b[0mjoined\u001b[0m\u001b[1;33m[\u001b[0m\u001b[0mjoined\u001b[0m\u001b[1;33m.\u001b[0m\u001b[0mbet\u001b[0m \u001b[1;33m>\u001b[0m \u001b[1;36m0\u001b[0m\u001b[1;33m]\u001b[0m\u001b[1;33m:\u001b[0m\u001b[1;33m\u001b[0m\u001b[1;33m\u001b[0m\u001b[0m\n\u001b[0;32m      4\u001b[0m     \u001b[0mjoined\u001b[0m\u001b[1;33m[\u001b[0m\u001b[1;34m'tm2'\u001b[0m\u001b[1;33m]\u001b[0m \u001b[1;33m=\u001b[0m  \u001b[0mjoined\u001b[0m\u001b[1;33m.\u001b[0m\u001b[0mtime\u001b[0m\u001b[1;33m\u001b[0m\u001b[1;33m\u001b[0m\u001b[0m\n",
      "\u001b[1;32m~\\Anaconda3\\lib\\site-packages\\pandas\\core\\generic.py\u001b[0m in \u001b[0;36m__nonzero__\u001b[1;34m(self)\u001b[0m\n\u001b[0;32m   1476\u001b[0m         raise ValueError(\"The truth value of a {0} is ambiguous. \"\n\u001b[0;32m   1477\u001b[0m                          \u001b[1;34m\"Use a.empty, a.bool(), a.item(), a.any() or a.all().\"\u001b[0m\u001b[1;33m\u001b[0m\u001b[1;33m\u001b[0m\u001b[0m\n\u001b[1;32m-> 1478\u001b[1;33m                          .format(self.__class__.__name__))\n\u001b[0m\u001b[0;32m   1479\u001b[0m \u001b[1;33m\u001b[0m\u001b[0m\n\u001b[0;32m   1480\u001b[0m     \u001b[0m__bool__\u001b[0m \u001b[1;33m=\u001b[0m \u001b[0m__nonzero__\u001b[0m\u001b[1;33m\u001b[0m\u001b[1;33m\u001b[0m\u001b[0m\n",
      "\u001b[1;31mValueError\u001b[0m: The truth value of a DataFrame is ambiguous. Use a.empty, a.bool(), a.item(), a.any() or a.all()."
     ]
    }
   ],
   "source": [
    "if joined[joined.bet == 0]:\n",
    "    joined['tm1'] =  joined.time\n",
    "elif joined[joined.bet > 0]:\n",
    "    joined['tm2'] =  joined.time"
   ]
  },
  {
   "cell_type": "code",
   "execution_count": 366,
   "metadata": {},
   "outputs": [],
   "source": [
    "tabl2 = joined[joined.bet == 0].head()"
   ]
  },
  {
   "cell_type": "code",
   "execution_count": 369,
   "metadata": {},
   "outputs": [],
   "source": [
    "tabl1['tm1'] = tabl1.time.min()\n",
    "tabl2['tm2'] = tabl2.time.min()"
   ]
  },
  {
   "cell_type": "code",
   "execution_count": null,
   "metadata": {},
   "outputs": [],
   "source": []
  },
  {
   "cell_type": "code",
   "execution_count": null,
   "metadata": {},
   "outputs": [],
   "source": []
  },
  {
   "cell_type": "code",
   "execution_count": 371,
   "metadata": {},
   "outputs": [],
   "source": []
  },
  {
   "cell_type": "code",
   "execution_count": null,
   "metadata": {},
   "outputs": [],
   "source": []
  },
  {
   "cell_type": "code",
   "execution_count": 335,
   "metadata": {},
   "outputs": [],
   "source": [
    "joined['time2']  = joined[joined.bet == 0].time.min()"
   ]
  },
  {
   "cell_type": "code",
   "execution_count": 339,
   "metadata": {},
   "outputs": [],
   "source": [
    "joined['dtime']  = joined['time1'] - joined['time2']"
   ]
  },
  {
   "cell_type": "code",
   "execution_count": 346,
   "metadata": {},
   "outputs": [
    {
     "data": {
      "text/html": [
       "<div>\n",
       "<style scoped>\n",
       "    .dataframe tbody tr th:only-of-type {\n",
       "        vertical-align: middle;\n",
       "    }\n",
       "\n",
       "    .dataframe tbody tr th {\n",
       "        vertical-align: top;\n",
       "    }\n",
       "\n",
       "    .dataframe thead th {\n",
       "        text-align: right;\n",
       "    }\n",
       "</style>\n",
       "<table border=\"1\" class=\"dataframe\">\n",
       "  <thead>\n",
       "    <tr style=\"text-align: right;\">\n",
       "      <th></th>\n",
       "      <th>user_id</th>\n",
       "      <th>email</th>\n",
       "      <th>geo</th>\n",
       "      <th>time</th>\n",
       "      <th>bet</th>\n",
       "      <th>win</th>\n",
       "      <th>time1</th>\n",
       "      <th>time2</th>\n",
       "      <th>dtime</th>\n",
       "    </tr>\n",
       "  </thead>\n",
       "  <tbody>\n",
       "    <tr>\n",
       "      <th>0</th>\n",
       "      <td>user_943</td>\n",
       "      <td>Accumanst@gmail.com</td>\n",
       "      <td>Ижевск</td>\n",
       "      <td>2019-01-06 21:06:57</td>\n",
       "      <td>0.0</td>\n",
       "      <td>0.0</td>\n",
       "      <td>2019-01-01 23:34:55</td>\n",
       "      <td>2019-01-01 04:37:25</td>\n",
       "      <td>18:57:30</td>\n",
       "    </tr>\n",
       "    <tr>\n",
       "      <th>1</th>\n",
       "      <td>user_943</td>\n",
       "      <td>Accumanst@gmail.com</td>\n",
       "      <td>Ижевск</td>\n",
       "      <td>2019-01-10 12:16:22</td>\n",
       "      <td>100.0</td>\n",
       "      <td>0.0</td>\n",
       "      <td>2019-01-01 23:34:55</td>\n",
       "      <td>2019-01-01 04:37:25</td>\n",
       "      <td>18:57:30</td>\n",
       "    </tr>\n",
       "    <tr>\n",
       "      <th>2</th>\n",
       "      <td>user_943</td>\n",
       "      <td>Accumanst@gmail.com</td>\n",
       "      <td>Ижевск</td>\n",
       "      <td>2019-01-27 01:18:47</td>\n",
       "      <td>100.0</td>\n",
       "      <td>0.0</td>\n",
       "      <td>2019-01-01 23:34:55</td>\n",
       "      <td>2019-01-01 04:37:25</td>\n",
       "      <td>18:57:30</td>\n",
       "    </tr>\n",
       "    <tr>\n",
       "      <th>3</th>\n",
       "      <td>user_943</td>\n",
       "      <td>Accumanst@gmail.com</td>\n",
       "      <td>Ижевск</td>\n",
       "      <td>2019-02-10 11:09:24</td>\n",
       "      <td>100.0</td>\n",
       "      <td>5456.0</td>\n",
       "      <td>2019-01-01 23:34:55</td>\n",
       "      <td>2019-01-01 04:37:25</td>\n",
       "      <td>18:57:30</td>\n",
       "    </tr>\n",
       "    <tr>\n",
       "      <th>4</th>\n",
       "      <td>user_943</td>\n",
       "      <td>Accumanst@gmail.com</td>\n",
       "      <td>Ижевск</td>\n",
       "      <td>2019-02-12 15:09:38</td>\n",
       "      <td>300.0</td>\n",
       "      <td>5245.0</td>\n",
       "      <td>2019-01-01 23:34:55</td>\n",
       "      <td>2019-01-01 04:37:25</td>\n",
       "      <td>18:57:30</td>\n",
       "    </tr>\n",
       "  </tbody>\n",
       "</table>\n",
       "</div>"
      ],
      "text/plain": [
       "    user_id                email     geo                time    bet     win  \\\n",
       "0  user_943  Accumanst@gmail.com  Ижевск 2019-01-06 21:06:57    0.0     0.0   \n",
       "1  user_943  Accumanst@gmail.com  Ижевск 2019-01-10 12:16:22  100.0     0.0   \n",
       "2  user_943  Accumanst@gmail.com  Ижевск 2019-01-27 01:18:47  100.0     0.0   \n",
       "3  user_943  Accumanst@gmail.com  Ижевск 2019-02-10 11:09:24  100.0  5456.0   \n",
       "4  user_943  Accumanst@gmail.com  Ижевск 2019-02-12 15:09:38  300.0  5245.0   \n",
       "\n",
       "                time1               time2    dtime  \n",
       "0 2019-01-01 23:34:55 2019-01-01 04:37:25 18:57:30  \n",
       "1 2019-01-01 23:34:55 2019-01-01 04:37:25 18:57:30  \n",
       "2 2019-01-01 23:34:55 2019-01-01 04:37:25 18:57:30  \n",
       "3 2019-01-01 23:34:55 2019-01-01 04:37:25 18:57:30  \n",
       "4 2019-01-01 23:34:55 2019-01-01 04:37:25 18:57:30  "
      ]
     },
     "execution_count": 346,
     "metadata": {},
     "output_type": "execute_result"
    }
   ],
   "source": [
    "joined.head()"
   ]
  },
  {
   "cell_type": "code",
   "execution_count": null,
   "metadata": {},
   "outputs": [],
   "source": []
  },
  {
   "cell_type": "code",
   "execution_count": 329,
   "metadata": {},
   "outputs": [],
   "source": [
    "tm2 = joined[joined.bet > 0].time.min()"
   ]
  },
  {
   "cell_type": "code",
   "execution_count": 330,
   "metadata": {},
   "outputs": [
    {
     "data": {
      "text/plain": [
       "19"
      ]
     },
     "execution_count": 330,
     "metadata": {},
     "output_type": "execute_result"
    }
   ],
   "source": [
    "dtm = tm2.hour - tm1.hour\n",
    "dtm"
   ]
  },
  {
   "cell_type": "code",
   "execution_count": 308,
   "metadata": {},
   "outputs": [],
   "source": [
    "tm = joined[joined['bet'] == 0].time.min()\n",
    "joined['time1'] = tm.hour\n"
   ]
  },
  {
   "cell_type": "code",
   "execution_count": 310,
   "metadata": {},
   "outputs": [],
   "source": [
    "tm2 = joined[joined['bet'] > 0].time.min()\n",
    "joined['time2'] = tm2.hour"
   ]
  },
  {
   "cell_type": "code",
   "execution_count": null,
   "metadata": {},
   "outputs": [],
   "source": []
  },
  {
   "cell_type": "code",
   "execution_count": 324,
   "metadata": {},
   "outputs": [
    {
     "data": {
      "text/plain": [
       "<pandas.core.groupby.generic.SeriesGroupBy object at 0x000001F01A18CAC8>"
      ]
     },
     "execution_count": 324,
     "metadata": {},
     "output_type": "execute_result"
    }
   ],
   "source": [
    "joined.groupby([joined['bet'] > 0]).time"
   ]
  },
  {
   "cell_type": "code",
   "execution_count": 312,
   "metadata": {
    "scrolled": true
   },
   "outputs": [
    {
     "data": {
      "text/html": [
       "<div>\n",
       "<style scoped>\n",
       "    .dataframe tbody tr th:only-of-type {\n",
       "        vertical-align: middle;\n",
       "    }\n",
       "\n",
       "    .dataframe tbody tr th {\n",
       "        vertical-align: top;\n",
       "    }\n",
       "\n",
       "    .dataframe thead th {\n",
       "        text-align: right;\n",
       "    }\n",
       "</style>\n",
       "<table border=\"1\" class=\"dataframe\">\n",
       "  <thead>\n",
       "    <tr style=\"text-align: right;\">\n",
       "      <th></th>\n",
       "      <th>user_id</th>\n",
       "      <th>email</th>\n",
       "      <th>geo</th>\n",
       "      <th>time</th>\n",
       "      <th>bet</th>\n",
       "      <th>win</th>\n",
       "      <th>time1</th>\n",
       "      <th>time2</th>\n",
       "    </tr>\n",
       "  </thead>\n",
       "  <tbody>\n",
       "    <tr>\n",
       "      <th>0</th>\n",
       "      <td>user_943</td>\n",
       "      <td>Accumanst@gmail.com</td>\n",
       "      <td>Ижевск</td>\n",
       "      <td>2019-01-06 21:06:57</td>\n",
       "      <td>0.0</td>\n",
       "      <td>0.0</td>\n",
       "      <td>4</td>\n",
       "      <td>23</td>\n",
       "    </tr>\n",
       "    <tr>\n",
       "      <th>1</th>\n",
       "      <td>user_943</td>\n",
       "      <td>Accumanst@gmail.com</td>\n",
       "      <td>Ижевск</td>\n",
       "      <td>2019-01-10 12:16:22</td>\n",
       "      <td>100.0</td>\n",
       "      <td>0.0</td>\n",
       "      <td>4</td>\n",
       "      <td>23</td>\n",
       "    </tr>\n",
       "    <tr>\n",
       "      <th>2</th>\n",
       "      <td>user_943</td>\n",
       "      <td>Accumanst@gmail.com</td>\n",
       "      <td>Ижевск</td>\n",
       "      <td>2019-01-27 01:18:47</td>\n",
       "      <td>100.0</td>\n",
       "      <td>0.0</td>\n",
       "      <td>4</td>\n",
       "      <td>23</td>\n",
       "    </tr>\n",
       "    <tr>\n",
       "      <th>3</th>\n",
       "      <td>user_943</td>\n",
       "      <td>Accumanst@gmail.com</td>\n",
       "      <td>Ижевск</td>\n",
       "      <td>2019-02-10 11:09:24</td>\n",
       "      <td>100.0</td>\n",
       "      <td>5456.0</td>\n",
       "      <td>4</td>\n",
       "      <td>23</td>\n",
       "    </tr>\n",
       "    <tr>\n",
       "      <th>4</th>\n",
       "      <td>user_943</td>\n",
       "      <td>Accumanst@gmail.com</td>\n",
       "      <td>Ижевск</td>\n",
       "      <td>2019-02-12 15:09:38</td>\n",
       "      <td>300.0</td>\n",
       "      <td>5245.0</td>\n",
       "      <td>4</td>\n",
       "      <td>23</td>\n",
       "    </tr>\n",
       "  </tbody>\n",
       "</table>\n",
       "</div>"
      ],
      "text/plain": [
       "    user_id                email     geo                time    bet     win  \\\n",
       "0  user_943  Accumanst@gmail.com  Ижевск 2019-01-06 21:06:57    0.0     0.0   \n",
       "1  user_943  Accumanst@gmail.com  Ижевск 2019-01-10 12:16:22  100.0     0.0   \n",
       "2  user_943  Accumanst@gmail.com  Ижевск 2019-01-27 01:18:47  100.0     0.0   \n",
       "3  user_943  Accumanst@gmail.com  Ижевск 2019-02-10 11:09:24  100.0  5456.0   \n",
       "4  user_943  Accumanst@gmail.com  Ижевск 2019-02-12 15:09:38  300.0  5245.0   \n",
       "\n",
       "   time1  time2  \n",
       "0      4     23  \n",
       "1      4     23  \n",
       "2      4     23  \n",
       "3      4     23  \n",
       "4      4     23  "
      ]
     },
     "execution_count": 312,
     "metadata": {},
     "output_type": "execute_result"
    }
   ],
   "source": [
    "joined.head()"
   ]
  },
  {
   "cell_type": "code",
   "execution_count": 243,
   "metadata": {},
   "outputs": [
    {
     "data": {
      "text/plain": [
       "19"
      ]
     },
     "execution_count": 243,
     "metadata": {},
     "output_type": "execute_result"
    }
   ],
   "source": []
  },
  {
   "cell_type": "code",
   "execution_count": null,
   "metadata": {},
   "outputs": [],
   "source": []
  },
  {
   "cell_type": "code",
   "execution_count": null,
   "metadata": {},
   "outputs": [],
   "source": [
    "Сколько в среднем времени проходит между появлением человека в сервисе и первой ставкой? \n",
    "Считать нужно только тех, кто делал ставку.\n",
    "\n",
    "Для того, чтобы узнать это, напишите метод, \n",
    "считающий минимальное время среди ставок, равных 0 и минимальное время среди ставок больше 0. \n",
    "После этого верните разницу между вторым и первым числом. Пройдитесь по всем группам в цикле. \n",
    "Если в группе нет ставок больше 0, пропустите эту группу. Просуммируйте разницу \n",
    "во времени для каждой группы (с помощью метода, описанного выше) и поделите на количество групп, \n",
    "которые вы не пропустили."
   ]
  },
  {
   "cell_type": "code",
   "execution_count": 271,
   "metadata": {},
   "outputs": [],
   "source": [
    "import pandas as pd\n",
    "# Приведем признак user_id к одному формату в обоих датасетах  \n",
    "us = pd.read_csv('users.csv', encoding='koi8_r', skip_blank_lines=True, sep='\\t')\n",
    "us.columns = ['user_id', 'email', 'geo']\n",
    "us.user_id = us.user_id.apply(lambda x: x.lower())\n",
    "log = pd.read_csv('log.csv', header=None)\n",
    "log.columns= ['user_id', 'time', 'bet','win']\n",
    "\n",
    "# Избавимся от ошибок в user_id  \n",
    "log = log[log.user_id != '#error']  \n",
    "log.user_id = log.user_id.str.split(' - ').apply(lambda x: x[1])  \n",
    "joined = pd.merge(us, log, on='user_id')\n",
    "\n",
    "# Почистим данне и введем новый признак\n",
    "joined['time']=joined['time'].str.replace('[', '')\n",
    "joined['bet']=joined['bet'].fillna(0)\n",
    "joined['win']=joined['win'].fillna(0)\n",
    "joined['net'] = joined.win-joined.bet"
   ]
  },
  {
   "cell_type": "code",
   "execution_count": 280,
   "metadata": {},
   "outputs": [
    {
     "data": {
      "text/plain": [
       "geo\n",
       "Москва             11959741.0\n",
       "Воронеж              184338.0\n",
       "Санкт-Петербург      151007.0\n",
       "Казань                97806.0\n",
       "Ярославль             97441.0\n",
       "Ижевск                84895.0\n",
       "Красноярск            84767.0\n",
       "Арзангелтск           74375.0\n",
       "Пермь                 67734.0\n",
       "Хабаровск             65459.0\n",
       "Краснодар             62718.0\n",
       "Ставрополь            46003.0\n",
       "Екатеринбург          36682.0\n",
       "Тюмень                 4701.0\n",
       "Name: win, dtype: float64"
      ]
     },
     "execution_count": 280,
     "metadata": {},
     "output_type": "execute_result"
    }
   ],
   "source": [
    "joined.groupby('geo').win.sum().sort_values(ascending=False)"
   ]
  },
  {
   "cell_type": "code",
   "execution_count": 283,
   "metadata": {},
   "outputs": [
    {
     "data": {
      "text/plain": [
       "227.3904449648712"
      ]
     },
     "execution_count": 283,
     "metadata": {},
     "output_type": "execute_result"
    }
   ],
   "source": [
    "joined.groupby('geo').bet.mean().max() / joined.groupby('geo').bet.mean().min()"
   ]
  },
  {
   "cell_type": "code",
   "execution_count": 284,
   "metadata": {},
   "outputs": [],
   "source": [
    "import pandas as pd\n",
    "# Приведем признак user_id к одному формату в обоих датасетах  \n",
    "us = pd.read_csv('users.csv', encoding='koi8_r', skip_blank_lines=True, sep='\\t')\n",
    "us.columns = ['user_id', 'email', 'geo']\n",
    "us.user_id = us.user_id.apply(lambda x: x.lower())\n",
    "log = pd.read_csv('log.csv', header=None)\n",
    "log.columns= ['user_id', 'time', 'bet','win']\n",
    "\n",
    "# Избавимся от ошибок в user_id  \n",
    "log = log[log.user_id != '#error']  \n",
    "log.user_id = log.user_id.str.split(' - ').apply(lambda x: x[1])  \n",
    "joined = pd.merge(us, log, on='user_id')\n",
    "\n",
    "# Почистим данне и введем новый признак\n",
    "joined['time']=joined['time'].str.replace('[', '')\n",
    "joined['bet']=joined['bet'].fillna(0)\n",
    "joined['win']=joined['win'].fillna(0)"
   ]
  },
  {
   "cell_type": "code",
   "execution_count": 291,
   "metadata": {},
   "outputs": [
    {
     "data": {
      "text/plain": [
       "geo\n",
       "Арзангелтск         96\n",
       "Воронеж             88\n",
       "Екатеринбург        49\n",
       "Ижевск              61\n",
       "Казань              66\n",
       "Краснодар           86\n",
       "Красноярск          56\n",
       "Москва              61\n",
       "Пермь               55\n",
       "Санкт-Петербург    115\n",
       "Ставрополь          36\n",
       "Тюмень              32\n",
       "Хабаровск           60\n",
       "Ярославль           89\n",
       "Name: user_id, dtype: int64"
      ]
     },
     "execution_count": 291,
     "metadata": {},
     "output_type": "execute_result"
    }
   ],
   "source": [
    "joined.groupby('geo').user_id.count()"
   ]
  },
  {
   "cell_type": "code",
   "execution_count": null,
   "metadata": {},
   "outputs": [],
   "source": [
    " 1. Загрузите датасеты log.csv и users.csv;\n",
    "\n",
    "2. Удалите user_id с ошибкой (#error) и приведите признак user_id к одному виду в обоих датасетах;\n",
    "\n",
    "3. Слейте два датасета в один по признаку user_id;\n",
    "\n",
    "4. Сгруппируйте данные по правильному признаку (это вам нужно понять самим), затем выберите user_id и \n",
    "    воспользуйтесь функцией count() для подсчета наблюдений в каждой группе;\n",
    "\n",
    "5. Результат (таблицу) запишите в sample2. "
   ]
  },
  {
   "cell_type": "code",
   "execution_count": null,
   "metadata": {},
   "outputs": [],
   "source": []
  },
  {
   "cell_type": "code",
   "execution_count": null,
   "metadata": {},
   "outputs": [],
   "source": []
  }
 ],
 "metadata": {
  "kernelspec": {
   "display_name": "Python 3",
   "language": "python",
   "name": "python3"
  },
  "language_info": {
   "codemirror_mode": {
    "name": "ipython",
    "version": 3
   },
   "file_extension": ".py",
   "mimetype": "text/x-python",
   "name": "python",
   "nbconvert_exporter": "python",
   "pygments_lexer": "ipython3",
   "version": "3.7.3"
  }
 },
 "nbformat": 4,
 "nbformat_minor": 2
}
